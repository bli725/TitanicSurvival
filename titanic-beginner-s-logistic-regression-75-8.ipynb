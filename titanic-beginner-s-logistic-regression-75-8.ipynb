{
 "cells": [
  {
   "cell_type": "markdown",
   "metadata": {
    "papermill": {
     "duration": 0.045413,
     "end_time": "2021-01-31T20:57:08.158188",
     "exception": false,
     "start_time": "2021-01-31T20:57:08.112775",
     "status": "completed"
    },
    "tags": []
   },
   "source": [
    "# Titanic Survival - Logistic Regression"
   ]
  },
  {
   "cell_type": "markdown",
   "metadata": {
    "papermill": {
     "duration": 0.042894,
     "end_time": "2021-01-31T20:57:08.245040",
     "exception": false,
     "start_time": "2021-01-31T20:57:08.202146",
     "status": "completed"
    },
    "tags": []
   },
   "source": [
    "Overview: A logistic regression is a simple way to quickly classify observations and provides a predictions for Titanic survivors that are fairly accurate. One major flaw seen with this model is that our top features have an exaggerated weight and skew our results.\n",
    "\n",
    "In this notebook, we explore the data and clean it best we can. This will involve replacing missing values and converting categorical variables to nominal values so they can be inputted into our model. Afterwards, we will fit logisitic regression models and choose the best combination of features to further analyze. Finally we will create a .csv file to be submitted to the competition and view our final score."
   ]
  },
  {
   "cell_type": "code",
   "execution_count": 1,
   "metadata": {
    "execution": {
     "iopub.execute_input": "2021-01-31T20:57:08.337975Z",
     "iopub.status.busy": "2021-01-31T20:57:08.337326Z",
     "iopub.status.idle": "2021-01-31T20:57:09.731939Z",
     "shell.execute_reply": "2021-01-31T20:57:09.730870Z"
    },
    "papermill": {
     "duration": 1.444333,
     "end_time": "2021-01-31T20:57:09.732104",
     "exception": false,
     "start_time": "2021-01-31T20:57:08.287771",
     "status": "completed"
    },
    "tags": []
   },
   "outputs": [],
   "source": [
    "# imports to work with dataframes and arrays as well as to help standardizing, modelling, and visualizing\n",
    "import numpy as np\n",
    "import pandas as pd\n",
    "import matplotlib.pyplot as plt\n",
    "import sys\n",
    "import seaborn as sns\n",
    "from sklearn.preprocessing import StandardScaler\n",
    "from sklearn.linear_model import LinearRegression\n",
    "from sklearn.linear_model import LogisticRegression\n",
    "from sklearn import metrics"
   ]
  },
  {
   "cell_type": "code",
   "execution_count": 2,
   "metadata": {
    "execution": {
     "iopub.execute_input": "2021-01-31T20:57:09.826544Z",
     "iopub.status.busy": "2021-01-31T20:57:09.825578Z",
     "iopub.status.idle": "2021-01-31T20:57:09.829029Z",
     "shell.execute_reply": "2021-01-31T20:57:09.828507Z"
    },
    "papermill": {
     "duration": 0.052086,
     "end_time": "2021-01-31T20:57:09.829166",
     "exception": false,
     "start_time": "2021-01-31T20:57:09.777080",
     "status": "completed"
    },
    "tags": []
   },
   "outputs": [],
   "source": [
    "if not sys.warnoptions:\n",
    "    import warnings\n",
    "    warnings.simplefilter(\"ignore\")"
   ]
  },
  {
   "cell_type": "code",
   "execution_count": 3,
   "metadata": {
    "execution": {
     "iopub.execute_input": "2021-01-31T20:57:09.924530Z",
     "iopub.status.busy": "2021-01-31T20:57:09.923487Z",
     "iopub.status.idle": "2021-01-31T20:57:09.928634Z",
     "shell.execute_reply": "2021-01-31T20:57:09.928078Z"
    },
    "papermill": {
     "duration": 0.055779,
     "end_time": "2021-01-31T20:57:09.928757",
     "exception": false,
     "start_time": "2021-01-31T20:57:09.872978",
     "status": "completed"
    },
    "tags": []
   },
   "outputs": [
    {
     "name": "stdout",
     "output_type": "stream",
     "text": [
      "/kaggle/input/titanic/train.csv\n",
      "/kaggle/input/titanic/test.csv\n",
      "/kaggle/input/titanic/gender_submission.csv\n"
     ]
    }
   ],
   "source": [
    "#Work inside Kaggle directory\n",
    "import os\n",
    "for dirname, _, filenames in os.walk('/kaggle/input'):\n",
    "    for filename in filenames:\n",
    "        print(os.path.join(dirname, filename))"
   ]
  },
  {
   "cell_type": "markdown",
   "metadata": {
    "papermill": {
     "duration": 0.04397,
     "end_time": "2021-01-31T20:57:10.018864",
     "exception": false,
     "start_time": "2021-01-31T20:57:09.974894",
     "status": "completed"
    },
    "tags": []
   },
   "source": [
    "# Exploring the data"
   ]
  },
  {
   "cell_type": "code",
   "execution_count": 4,
   "metadata": {
    "execution": {
     "iopub.execute_input": "2021-01-31T20:57:10.115338Z",
     "iopub.status.busy": "2021-01-31T20:57:10.114633Z",
     "iopub.status.idle": "2021-01-31T20:57:10.139095Z",
     "shell.execute_reply": "2021-01-31T20:57:10.138369Z"
    },
    "papermill": {
     "duration": 0.076136,
     "end_time": "2021-01-31T20:57:10.139215",
     "exception": false,
     "start_time": "2021-01-31T20:57:10.063079",
     "status": "completed"
    },
    "tags": []
   },
   "outputs": [],
   "source": [
    "# Import our csv files\n",
    "kaggle_train = pd.read_csv('/kaggle/input/titanic/train.csv')\n",
    "kaggle_test = pd.read_csv('/kaggle/input/titanic/test.csv')"
   ]
  },
  {
   "cell_type": "code",
   "execution_count": 5,
   "metadata": {
    "execution": {
     "iopub.execute_input": "2021-01-31T20:57:10.254339Z",
     "iopub.status.busy": "2021-01-31T20:57:10.247606Z",
     "iopub.status.idle": "2021-01-31T20:57:10.275236Z",
     "shell.execute_reply": "2021-01-31T20:57:10.274702Z"
    },
    "papermill": {
     "duration": 0.091513,
     "end_time": "2021-01-31T20:57:10.275354",
     "exception": false,
     "start_time": "2021-01-31T20:57:10.183841",
     "status": "completed"
    },
    "tags": []
   },
   "outputs": [
    {
     "data": {
      "text/html": [
       "<div>\n",
       "<style scoped>\n",
       "    .dataframe tbody tr th:only-of-type {\n",
       "        vertical-align: middle;\n",
       "    }\n",
       "\n",
       "    .dataframe tbody tr th {\n",
       "        vertical-align: top;\n",
       "    }\n",
       "\n",
       "    .dataframe thead th {\n",
       "        text-align: right;\n",
       "    }\n",
       "</style>\n",
       "<table border=\"1\" class=\"dataframe\">\n",
       "  <thead>\n",
       "    <tr style=\"text-align: right;\">\n",
       "      <th></th>\n",
       "      <th>PassengerId</th>\n",
       "      <th>Survived</th>\n",
       "      <th>Pclass</th>\n",
       "      <th>Name</th>\n",
       "      <th>Sex</th>\n",
       "      <th>Age</th>\n",
       "      <th>SibSp</th>\n",
       "      <th>Parch</th>\n",
       "      <th>Ticket</th>\n",
       "      <th>Fare</th>\n",
       "      <th>Cabin</th>\n",
       "      <th>Embarked</th>\n",
       "    </tr>\n",
       "  </thead>\n",
       "  <tbody>\n",
       "    <tr>\n",
       "      <th>0</th>\n",
       "      <td>1</td>\n",
       "      <td>0.0</td>\n",
       "      <td>3</td>\n",
       "      <td>Braund, Mr. Owen Harris</td>\n",
       "      <td>male</td>\n",
       "      <td>22.0</td>\n",
       "      <td>1</td>\n",
       "      <td>0</td>\n",
       "      <td>A/5 21171</td>\n",
       "      <td>7.2500</td>\n",
       "      <td>NaN</td>\n",
       "      <td>S</td>\n",
       "    </tr>\n",
       "    <tr>\n",
       "      <th>1</th>\n",
       "      <td>2</td>\n",
       "      <td>1.0</td>\n",
       "      <td>1</td>\n",
       "      <td>Cumings, Mrs. John Bradley (Florence Briggs Th...</td>\n",
       "      <td>female</td>\n",
       "      <td>38.0</td>\n",
       "      <td>1</td>\n",
       "      <td>0</td>\n",
       "      <td>PC 17599</td>\n",
       "      <td>71.2833</td>\n",
       "      <td>C85</td>\n",
       "      <td>C</td>\n",
       "    </tr>\n",
       "    <tr>\n",
       "      <th>2</th>\n",
       "      <td>3</td>\n",
       "      <td>1.0</td>\n",
       "      <td>3</td>\n",
       "      <td>Heikkinen, Miss. Laina</td>\n",
       "      <td>female</td>\n",
       "      <td>26.0</td>\n",
       "      <td>0</td>\n",
       "      <td>0</td>\n",
       "      <td>STON/O2. 3101282</td>\n",
       "      <td>7.9250</td>\n",
       "      <td>NaN</td>\n",
       "      <td>S</td>\n",
       "    </tr>\n",
       "    <tr>\n",
       "      <th>3</th>\n",
       "      <td>4</td>\n",
       "      <td>1.0</td>\n",
       "      <td>1</td>\n",
       "      <td>Futrelle, Mrs. Jacques Heath (Lily May Peel)</td>\n",
       "      <td>female</td>\n",
       "      <td>35.0</td>\n",
       "      <td>1</td>\n",
       "      <td>0</td>\n",
       "      <td>113803</td>\n",
       "      <td>53.1000</td>\n",
       "      <td>C123</td>\n",
       "      <td>S</td>\n",
       "    </tr>\n",
       "    <tr>\n",
       "      <th>4</th>\n",
       "      <td>5</td>\n",
       "      <td>0.0</td>\n",
       "      <td>3</td>\n",
       "      <td>Allen, Mr. William Henry</td>\n",
       "      <td>male</td>\n",
       "      <td>35.0</td>\n",
       "      <td>0</td>\n",
       "      <td>0</td>\n",
       "      <td>373450</td>\n",
       "      <td>8.0500</td>\n",
       "      <td>NaN</td>\n",
       "      <td>S</td>\n",
       "    </tr>\n",
       "  </tbody>\n",
       "</table>\n",
       "</div>"
      ],
      "text/plain": [
       "   PassengerId  Survived  Pclass  \\\n",
       "0            1       0.0       3   \n",
       "1            2       1.0       1   \n",
       "2            3       1.0       3   \n",
       "3            4       1.0       1   \n",
       "4            5       0.0       3   \n",
       "\n",
       "                                                Name     Sex   Age  SibSp  \\\n",
       "0                            Braund, Mr. Owen Harris    male  22.0      1   \n",
       "1  Cumings, Mrs. John Bradley (Florence Briggs Th...  female  38.0      1   \n",
       "2                             Heikkinen, Miss. Laina  female  26.0      0   \n",
       "3       Futrelle, Mrs. Jacques Heath (Lily May Peel)  female  35.0      1   \n",
       "4                           Allen, Mr. William Henry    male  35.0      0   \n",
       "\n",
       "   Parch            Ticket     Fare Cabin Embarked  \n",
       "0      0         A/5 21171   7.2500   NaN        S  \n",
       "1      0          PC 17599  71.2833   C85        C  \n",
       "2      0  STON/O2. 3101282   7.9250   NaN        S  \n",
       "3      0            113803  53.1000  C123        S  \n",
       "4      0            373450   8.0500   NaN        S  "
      ]
     },
     "execution_count": 5,
     "metadata": {},
     "output_type": "execute_result"
    }
   ],
   "source": [
    "#Add the missing Survived column to the test dataset so that it can be joined with the training dataset for preprocessing\n",
    "kaggle_test['Survived'] = np.nan\n",
    "onethru11 = np.arange(1, 11)\n",
    "kaggle_test_colOrderadj = [0, 11, 1,  2,  3,  4,  5,  6,  7,  8,  9, 10]\n",
    "kaggle_test = kaggle_test.iloc[:, kaggle_test_colOrderadj]\n",
    "\n",
    "#Combine rows of train and test csvs for preprocessing\n",
    "combine_dfs = [kaggle_train, kaggle_test]\n",
    "titanic = pd.concat(combine_dfs)\n",
    "titanic.head()"
   ]
  },
  {
   "cell_type": "code",
   "execution_count": 6,
   "metadata": {
    "execution": {
     "iopub.execute_input": "2021-01-31T20:57:10.372705Z",
     "iopub.status.busy": "2021-01-31T20:57:10.370790Z",
     "iopub.status.idle": "2021-01-31T20:57:10.384431Z",
     "shell.execute_reply": "2021-01-31T20:57:10.385573Z"
    },
    "papermill": {
     "duration": 0.065282,
     "end_time": "2021-01-31T20:57:10.385730",
     "exception": false,
     "start_time": "2021-01-31T20:57:10.320448",
     "status": "completed"
    },
    "tags": []
   },
   "outputs": [
    {
     "name": "stdout",
     "output_type": "stream",
     "text": [
      "<class 'pandas.core.frame.DataFrame'>\n",
      "Int64Index: 1309 entries, 0 to 417\n",
      "Data columns (total 12 columns):\n",
      " #   Column       Non-Null Count  Dtype  \n",
      "---  ------       --------------  -----  \n",
      " 0   PassengerId  1309 non-null   int64  \n",
      " 1   Survived     891 non-null    float64\n",
      " 2   Pclass       1309 non-null   int64  \n",
      " 3   Name         1309 non-null   object \n",
      " 4   Sex          1309 non-null   object \n",
      " 5   Age          1046 non-null   float64\n",
      " 6   SibSp        1309 non-null   int64  \n",
      " 7   Parch        1309 non-null   int64  \n",
      " 8   Ticket       1309 non-null   object \n",
      " 9   Fare         1308 non-null   float64\n",
      " 10  Cabin        295 non-null    object \n",
      " 11  Embarked     1307 non-null   object \n",
      "dtypes: float64(3), int64(4), object(5)\n",
      "memory usage: 132.9+ KB\n"
     ]
    }
   ],
   "source": [
    "titanic.info()"
   ]
  },
  {
   "cell_type": "markdown",
   "metadata": {
    "papermill": {
     "duration": 0.045141,
     "end_time": "2021-01-31T20:57:10.476483",
     "exception": false,
     "start_time": "2021-01-31T20:57:10.431342",
     "status": "completed"
    },
    "tags": []
   },
   "source": [
    "It seems we have some preprocessing work to do, a few columns are missing values, a few columns need to be dropped, and classifier features will need to have values converted to 0s and 1s."
   ]
  },
  {
   "cell_type": "markdown",
   "metadata": {
    "papermill": {
     "duration": 0.04507,
     "end_time": "2021-01-31T20:57:10.569783",
     "exception": false,
     "start_time": "2021-01-31T20:57:10.524713",
     "status": "completed"
    },
    "tags": []
   },
   "source": [
    "# Preprocessing"
   ]
  },
  {
   "cell_type": "markdown",
   "metadata": {
    "papermill": {
     "duration": 0.045041,
     "end_time": "2021-01-31T20:57:10.660195",
     "exception": false,
     "start_time": "2021-01-31T20:57:10.615154",
     "status": "completed"
    },
    "tags": []
   },
   "source": [
    "A quick summary of the preprocessing that was done:\n",
    "* Name feature will be dropped as it is an index performing a similar function as our PassengerID.\n",
    "* Ticket feature groups passengers together, most likely by family if tickets were purchased for multiple people. This feature can be used to determine how many people each customer was traveling with, a simliar but slightly different meaning than SibSp or Parch which measure how many relatives were on-board. Replace this feature with a new feature named \"GroupSize\" that represents this property of Ticket and hope that it adds meaning to our model.\n",
    "* Fare is likely strongly associated with the class of the ticket purchased. Currently the issue with this feature is that the dollar value listed is the Total Fare that was paid by all passengers traveling by this Ticket. Will replace this feature with a more standarized version: \"FarePerPassenger\" which conveys information on how much was paid per passenger. Should be strongly correlated with Pclass(the class of the passenger) Also is missing a value, which will be filled in with the median FarePerPassenger \n",
    "* Cabin will be dropped since it is missing too many values(only 22.9% of passengers have a Cabin listed), in an ideal world with complete Cabin data, we would measure whether prefixes such as 'A' or 'C' would group passengers into different sections of the Titanic that would impact their ability to escape the sinking ship.\n",
    "* Pclass, SibSp, Parch, Embarked, and Sex are categorical variables that will be grouped and values remapped to integer 0s and 1s for modelling\n",
    "    **note Embarked is missing 2 values, replaced those with 0(the mode)*"
   ]
  },
  {
   "cell_type": "markdown",
   "metadata": {
    "papermill": {
     "duration": 0.045189,
     "end_time": "2021-01-31T20:57:10.750912",
     "exception": false,
     "start_time": "2021-01-31T20:57:10.705723",
     "status": "completed"
    },
    "tags": []
   },
   "source": [
    "## Address the missing Fare value"
   ]
  },
  {
   "cell_type": "code",
   "execution_count": 7,
   "metadata": {
    "execution": {
     "iopub.execute_input": "2021-01-31T20:57:10.860920Z",
     "iopub.status.busy": "2021-01-31T20:57:10.860199Z",
     "iopub.status.idle": "2021-01-31T20:57:10.864185Z",
     "shell.execute_reply": "2021-01-31T20:57:10.863532Z"
    },
    "papermill": {
     "duration": 0.068145,
     "end_time": "2021-01-31T20:57:10.864297",
     "exception": false,
     "start_time": "2021-01-31T20:57:10.796152",
     "status": "completed"
    },
    "tags": []
   },
   "outputs": [
    {
     "data": {
      "text/html": [
       "<div>\n",
       "<style scoped>\n",
       "    .dataframe tbody tr th:only-of-type {\n",
       "        vertical-align: middle;\n",
       "    }\n",
       "\n",
       "    .dataframe tbody tr th {\n",
       "        vertical-align: top;\n",
       "    }\n",
       "\n",
       "    .dataframe thead th {\n",
       "        text-align: right;\n",
       "    }\n",
       "</style>\n",
       "<table border=\"1\" class=\"dataframe\">\n",
       "  <thead>\n",
       "    <tr style=\"text-align: right;\">\n",
       "      <th></th>\n",
       "      <th>PassengerId</th>\n",
       "      <th>Survived</th>\n",
       "      <th>Pclass</th>\n",
       "      <th>Name</th>\n",
       "      <th>Sex</th>\n",
       "      <th>Age</th>\n",
       "      <th>SibSp</th>\n",
       "      <th>Parch</th>\n",
       "      <th>Ticket</th>\n",
       "      <th>Fare</th>\n",
       "      <th>Cabin</th>\n",
       "      <th>Embarked</th>\n",
       "    </tr>\n",
       "  </thead>\n",
       "  <tbody>\n",
       "    <tr>\n",
       "      <th>152</th>\n",
       "      <td>1044</td>\n",
       "      <td>NaN</td>\n",
       "      <td>3</td>\n",
       "      <td>Storey, Mr. Thomas</td>\n",
       "      <td>male</td>\n",
       "      <td>60.5</td>\n",
       "      <td>0</td>\n",
       "      <td>0</td>\n",
       "      <td>3701</td>\n",
       "      <td>NaN</td>\n",
       "      <td>NaN</td>\n",
       "      <td>S</td>\n",
       "    </tr>\n",
       "  </tbody>\n",
       "</table>\n",
       "</div>"
      ],
      "text/plain": [
       "     PassengerId  Survived  Pclass                Name   Sex   Age  SibSp  \\\n",
       "152         1044       NaN       3  Storey, Mr. Thomas  male  60.5      0   \n",
       "\n",
       "     Parch Ticket  Fare Cabin Embarked  \n",
       "152      0   3701   NaN   NaN        S  "
      ]
     },
     "execution_count": 7,
     "metadata": {},
     "output_type": "execute_result"
    }
   ],
   "source": [
    "#Display the missing value\n",
    "titanic[titanic['Fare'].isnull()]"
   ]
  },
  {
   "cell_type": "markdown",
   "metadata": {
    "papermill": {
     "duration": 0.045789,
     "end_time": "2021-01-31T20:57:10.956123",
     "exception": false,
     "start_time": "2021-01-31T20:57:10.910334",
     "status": "completed"
    },
    "tags": []
   },
   "source": [
    "This passenger is traveling 3rd class so we will find the median 3rd class FarePerPassenger and assume that value for this passenger."
   ]
  },
  {
   "cell_type": "code",
   "execution_count": 8,
   "metadata": {
    "execution": {
     "iopub.execute_input": "2021-01-31T20:57:11.055987Z",
     "iopub.status.busy": "2021-01-31T20:57:11.055314Z",
     "iopub.status.idle": "2021-01-31T20:57:11.064710Z",
     "shell.execute_reply": "2021-01-31T20:57:11.063963Z"
    },
    "papermill": {
     "duration": 0.061961,
     "end_time": "2021-01-31T20:57:11.064845",
     "exception": false,
     "start_time": "2021-01-31T20:57:11.002884",
     "status": "completed"
    },
    "tags": []
   },
   "outputs": [
    {
     "name": "stdout",
     "output_type": "stream",
     "text": [
      "Ticket\n",
      "110152         3\n",
      "110413         3\n",
      "110465         2\n",
      "110469         1\n",
      "110489         1\n",
      "              ..\n",
      "W./C. 6608     5\n",
      "W./C. 6609     1\n",
      "W.E.P. 5734    2\n",
      "W/C 14208      1\n",
      "WE/P 5735      2\n",
      "Name: Name, Length: 929, dtype: int64\n"
     ]
    }
   ],
   "source": [
    "#Exploring the Ticket feature for duplicate values\n",
    "print(titanic.groupby('Ticket')['Name'].nunique())"
   ]
  },
  {
   "cell_type": "code",
   "execution_count": 9,
   "metadata": {
    "execution": {
     "iopub.execute_input": "2021-01-31T20:57:11.162704Z",
     "iopub.status.busy": "2021-01-31T20:57:11.162023Z",
     "iopub.status.idle": "2021-01-31T20:57:11.178979Z",
     "shell.execute_reply": "2021-01-31T20:57:11.179858Z"
    },
    "papermill": {
     "duration": 0.068078,
     "end_time": "2021-01-31T20:57:11.180047",
     "exception": false,
     "start_time": "2021-01-31T20:57:11.111969",
     "status": "completed"
    },
    "tags": []
   },
   "outputs": [
    {
     "data": {
      "text/html": [
       "<div>\n",
       "<style scoped>\n",
       "    .dataframe tbody tr th:only-of-type {\n",
       "        vertical-align: middle;\n",
       "    }\n",
       "\n",
       "    .dataframe tbody tr th {\n",
       "        vertical-align: top;\n",
       "    }\n",
       "\n",
       "    .dataframe thead th {\n",
       "        text-align: right;\n",
       "    }\n",
       "</style>\n",
       "<table border=\"1\" class=\"dataframe\">\n",
       "  <thead>\n",
       "    <tr style=\"text-align: right;\">\n",
       "      <th></th>\n",
       "      <th>PassengerId</th>\n",
       "      <th>Survived</th>\n",
       "      <th>Pclass</th>\n",
       "      <th>Name</th>\n",
       "      <th>Sex</th>\n",
       "      <th>Age</th>\n",
       "      <th>SibSp</th>\n",
       "      <th>Parch</th>\n",
       "      <th>Ticket</th>\n",
       "      <th>Fare</th>\n",
       "      <th>Cabin</th>\n",
       "      <th>Embarked</th>\n",
       "    </tr>\n",
       "  </thead>\n",
       "  <tbody>\n",
       "    <tr>\n",
       "      <th>86</th>\n",
       "      <td>87</td>\n",
       "      <td>0.0</td>\n",
       "      <td>3</td>\n",
       "      <td>Ford, Mr. William Neal</td>\n",
       "      <td>male</td>\n",
       "      <td>16.0</td>\n",
       "      <td>1</td>\n",
       "      <td>3</td>\n",
       "      <td>W./C. 6608</td>\n",
       "      <td>34.375</td>\n",
       "      <td>NaN</td>\n",
       "      <td>S</td>\n",
       "    </tr>\n",
       "    <tr>\n",
       "      <th>147</th>\n",
       "      <td>148</td>\n",
       "      <td>0.0</td>\n",
       "      <td>3</td>\n",
       "      <td>Ford, Miss. Robina Maggie \"Ruby\"</td>\n",
       "      <td>female</td>\n",
       "      <td>9.0</td>\n",
       "      <td>2</td>\n",
       "      <td>2</td>\n",
       "      <td>W./C. 6608</td>\n",
       "      <td>34.375</td>\n",
       "      <td>NaN</td>\n",
       "      <td>S</td>\n",
       "    </tr>\n",
       "    <tr>\n",
       "      <th>436</th>\n",
       "      <td>437</td>\n",
       "      <td>0.0</td>\n",
       "      <td>3</td>\n",
       "      <td>Ford, Miss. Doolina Margaret \"Daisy\"</td>\n",
       "      <td>female</td>\n",
       "      <td>21.0</td>\n",
       "      <td>2</td>\n",
       "      <td>2</td>\n",
       "      <td>W./C. 6608</td>\n",
       "      <td>34.375</td>\n",
       "      <td>NaN</td>\n",
       "      <td>S</td>\n",
       "    </tr>\n",
       "    <tr>\n",
       "      <th>736</th>\n",
       "      <td>737</td>\n",
       "      <td>0.0</td>\n",
       "      <td>3</td>\n",
       "      <td>Ford, Mrs. Edward (Margaret Ann Watson)</td>\n",
       "      <td>female</td>\n",
       "      <td>48.0</td>\n",
       "      <td>1</td>\n",
       "      <td>3</td>\n",
       "      <td>W./C. 6608</td>\n",
       "      <td>34.375</td>\n",
       "      <td>NaN</td>\n",
       "      <td>S</td>\n",
       "    </tr>\n",
       "    <tr>\n",
       "      <th>167</th>\n",
       "      <td>1059</td>\n",
       "      <td>NaN</td>\n",
       "      <td>3</td>\n",
       "      <td>Ford, Mr. Edward Watson</td>\n",
       "      <td>male</td>\n",
       "      <td>18.0</td>\n",
       "      <td>2</td>\n",
       "      <td>2</td>\n",
       "      <td>W./C. 6608</td>\n",
       "      <td>34.375</td>\n",
       "      <td>NaN</td>\n",
       "      <td>S</td>\n",
       "    </tr>\n",
       "  </tbody>\n",
       "</table>\n",
       "</div>"
      ],
      "text/plain": [
       "     PassengerId  Survived  Pclass                                     Name  \\\n",
       "86            87       0.0       3                   Ford, Mr. William Neal   \n",
       "147          148       0.0       3         Ford, Miss. Robina Maggie \"Ruby\"   \n",
       "436          437       0.0       3     Ford, Miss. Doolina Margaret \"Daisy\"   \n",
       "736          737       0.0       3  Ford, Mrs. Edward (Margaret Ann Watson)   \n",
       "167         1059       NaN       3                  Ford, Mr. Edward Watson   \n",
       "\n",
       "        Sex   Age  SibSp  Parch      Ticket    Fare Cabin Embarked  \n",
       "86     male  16.0      1      3  W./C. 6608  34.375   NaN        S  \n",
       "147  female   9.0      2      2  W./C. 6608  34.375   NaN        S  \n",
       "436  female  21.0      2      2  W./C. 6608  34.375   NaN        S  \n",
       "736  female  48.0      1      3  W./C. 6608  34.375   NaN        S  \n",
       "167    male  18.0      2      2  W./C. 6608  34.375   NaN        S  "
      ]
     },
     "execution_count": 9,
     "metadata": {},
     "output_type": "execute_result"
    }
   ],
   "source": [
    "#Viewing examples of duplicate values in Ticket feature\n",
    "titanic[titanic['Ticket'] == 'W./C. 6608']"
   ]
  },
  {
   "cell_type": "code",
   "execution_count": 10,
   "metadata": {
    "execution": {
     "iopub.execute_input": "2021-01-31T20:57:11.278474Z",
     "iopub.status.busy": "2021-01-31T20:57:11.277775Z",
     "iopub.status.idle": "2021-01-31T20:57:11.310045Z",
     "shell.execute_reply": "2021-01-31T20:57:11.309359Z"
    },
    "papermill": {
     "duration": 0.082621,
     "end_time": "2021-01-31T20:57:11.310165",
     "exception": false,
     "start_time": "2021-01-31T20:57:11.227544",
     "status": "completed"
    },
    "tags": []
   },
   "outputs": [],
   "source": [
    "#Add new features GroupSize and FarePerPassenger\n",
    "titanic['GroupSize'] = titanic.groupby('Ticket')['Ticket'].transform('count')\n",
    "titanic['FarePerPassenger'] = titanic['Fare']/titanic['GroupSize']"
   ]
  },
  {
   "cell_type": "code",
   "execution_count": 11,
   "metadata": {
    "execution": {
     "iopub.execute_input": "2021-01-31T20:57:11.413800Z",
     "iopub.status.busy": "2021-01-31T20:57:11.412746Z",
     "iopub.status.idle": "2021-01-31T20:57:11.431192Z",
     "shell.execute_reply": "2021-01-31T20:57:11.430630Z"
    },
    "papermill": {
     "duration": 0.073389,
     "end_time": "2021-01-31T20:57:11.431315",
     "exception": false,
     "start_time": "2021-01-31T20:57:11.357926",
     "status": "completed"
    },
    "tags": []
   },
   "outputs": [
    {
     "data": {
      "text/html": [
       "<div>\n",
       "<style scoped>\n",
       "    .dataframe tbody tr th:only-of-type {\n",
       "        vertical-align: middle;\n",
       "    }\n",
       "\n",
       "    .dataframe tbody tr th {\n",
       "        vertical-align: top;\n",
       "    }\n",
       "\n",
       "    .dataframe thead th {\n",
       "        text-align: right;\n",
       "    }\n",
       "</style>\n",
       "<table border=\"1\" class=\"dataframe\">\n",
       "  <thead>\n",
       "    <tr style=\"text-align: right;\">\n",
       "      <th></th>\n",
       "      <th>PassengerId</th>\n",
       "      <th>Survived</th>\n",
       "      <th>Pclass</th>\n",
       "      <th>Name</th>\n",
       "      <th>Sex</th>\n",
       "      <th>Age</th>\n",
       "      <th>SibSp</th>\n",
       "      <th>Parch</th>\n",
       "      <th>Ticket</th>\n",
       "      <th>Fare</th>\n",
       "      <th>Cabin</th>\n",
       "      <th>Embarked</th>\n",
       "      <th>GroupSize</th>\n",
       "      <th>FarePerPassenger</th>\n",
       "    </tr>\n",
       "  </thead>\n",
       "  <tbody>\n",
       "    <tr>\n",
       "      <th>152</th>\n",
       "      <td>1044</td>\n",
       "      <td>NaN</td>\n",
       "      <td>3</td>\n",
       "      <td>Storey, Mr. Thomas</td>\n",
       "      <td>male</td>\n",
       "      <td>60.5</td>\n",
       "      <td>0</td>\n",
       "      <td>0</td>\n",
       "      <td>3701</td>\n",
       "      <td>NaN</td>\n",
       "      <td>NaN</td>\n",
       "      <td>S</td>\n",
       "      <td>1</td>\n",
       "      <td>7.75</td>\n",
       "    </tr>\n",
       "  </tbody>\n",
       "</table>\n",
       "</div>"
      ],
      "text/plain": [
       "     PassengerId  Survived  Pclass                Name   Sex   Age  SibSp  \\\n",
       "152         1044       NaN       3  Storey, Mr. Thomas  male  60.5      0   \n",
       "\n",
       "     Parch Ticket  Fare Cabin Embarked  GroupSize  FarePerPassenger  \n",
       "152      0   3701   NaN   NaN        S          1              7.75  "
      ]
     },
     "execution_count": 11,
     "metadata": {},
     "output_type": "execute_result"
    }
   ],
   "source": [
    "#Substitute the median value of 3rd class tickets for our missing Fare value under the new FarePerPassenger feature\n",
    "titanic.loc[titanic.PassengerId == 1044, 'FarePerPassenger'] = titanic[titanic['Pclass'] == 3]['FarePerPassenger'].median()\n",
    "titanic[titanic['PassengerId'] == 1044]"
   ]
  },
  {
   "cell_type": "markdown",
   "metadata": {
    "papermill": {
     "duration": 0.051814,
     "end_time": "2021-01-31T20:57:11.532042",
     "exception": false,
     "start_time": "2021-01-31T20:57:11.480228",
     "status": "completed"
    },
    "tags": []
   },
   "source": [
    "Standardizing the Fare for each passenger into our new feature FarePerPassenger allowed us to further define our clusters for Pclass: 3rd class paid roughly 7-8 dollars per passenger, 2nd class about 10-15 dollars, and 1st class between roughly 23-45 dollars"
   ]
  },
  {
   "cell_type": "code",
   "execution_count": 12,
   "metadata": {
    "execution": {
     "iopub.execute_input": "2021-01-31T20:57:11.637025Z",
     "iopub.status.busy": "2021-01-31T20:57:11.636258Z",
     "iopub.status.idle": "2021-01-31T20:57:11.638409Z",
     "shell.execute_reply": "2021-01-31T20:57:11.638879Z"
    },
    "papermill": {
     "duration": 0.058888,
     "end_time": "2021-01-31T20:57:11.639050",
     "exception": false,
     "start_time": "2021-01-31T20:57:11.580162",
     "status": "completed"
    },
    "tags": []
   },
   "outputs": [],
   "source": [
    "titanic.columns.values\n",
    "first_drop_remaining = ['PassengerId', 'Survived', 'Pclass', 'Sex', 'Age', 'SibSp',\n",
    "       'Parch', 'Embarked', 'GroupSize', 'FarePerPassenger']\n",
    "titanic = titanic[first_drop_remaining]"
   ]
  },
  {
   "cell_type": "code",
   "execution_count": 13,
   "metadata": {
    "execution": {
     "iopub.execute_input": "2021-01-31T20:57:11.749967Z",
     "iopub.status.busy": "2021-01-31T20:57:11.749261Z",
     "iopub.status.idle": "2021-01-31T20:57:11.752536Z",
     "shell.execute_reply": "2021-01-31T20:57:11.752035Z"
    },
    "papermill": {
     "duration": 0.064354,
     "end_time": "2021-01-31T20:57:11.752649",
     "exception": false,
     "start_time": "2021-01-31T20:57:11.688295",
     "status": "completed"
    },
    "tags": []
   },
   "outputs": [],
   "source": [
    "#Convert Embarked and Sex features into integers to be compatible with sklearn LogisitcRegression\n",
    "# 0 = embarked from Southampton port\n",
    "# 1 = embarked from Cherbourg or Queenstown port\n",
    "titanic['Embarked'] = titanic['Embarked'].map({'S':0, 'C':1, 'Q':1})\n",
    "titanic['Embarked'] = titanic['Embarked'].fillna(0)\n",
    "titanic['Embarked'] = titanic['Embarked'].astype('int')\n",
    "\n",
    "# 0 = Male\n",
    "# 1 = Female\n",
    "titanic['Sex'] = titanic['Sex'].map({'male':0, 'female':1})"
   ]
  },
  {
   "cell_type": "code",
   "execution_count": 14,
   "metadata": {
    "execution": {
     "iopub.execute_input": "2021-01-31T20:57:11.871848Z",
     "iopub.status.busy": "2021-01-31T20:57:11.862948Z",
     "iopub.status.idle": "2021-01-31T20:57:11.876605Z",
     "shell.execute_reply": "2021-01-31T20:57:11.877092Z"
    },
    "papermill": {
     "duration": 0.076394,
     "end_time": "2021-01-31T20:57:11.877240",
     "exception": false,
     "start_time": "2021-01-31T20:57:11.800846",
     "status": "completed"
    },
    "tags": []
   },
   "outputs": [
    {
     "data": {
      "text/html": [
       "<div>\n",
       "<style scoped>\n",
       "    .dataframe tbody tr th:only-of-type {\n",
       "        vertical-align: middle;\n",
       "    }\n",
       "\n",
       "    .dataframe tbody tr th {\n",
       "        vertical-align: top;\n",
       "    }\n",
       "\n",
       "    .dataframe thead th {\n",
       "        text-align: right;\n",
       "    }\n",
       "</style>\n",
       "<table border=\"1\" class=\"dataframe\">\n",
       "  <thead>\n",
       "    <tr style=\"text-align: right;\">\n",
       "      <th></th>\n",
       "      <th>PassengerId</th>\n",
       "      <th>Survived</th>\n",
       "      <th>Pclass</th>\n",
       "      <th>Sex</th>\n",
       "      <th>Age</th>\n",
       "      <th>SibSp</th>\n",
       "      <th>Parch</th>\n",
       "      <th>Embarked</th>\n",
       "      <th>GroupSize</th>\n",
       "      <th>FarePerPassenger</th>\n",
       "    </tr>\n",
       "  </thead>\n",
       "  <tbody>\n",
       "    <tr>\n",
       "      <th>0</th>\n",
       "      <td>1</td>\n",
       "      <td>0.0</td>\n",
       "      <td>3</td>\n",
       "      <td>0</td>\n",
       "      <td>22.0</td>\n",
       "      <td>1</td>\n",
       "      <td>0</td>\n",
       "      <td>0</td>\n",
       "      <td>1</td>\n",
       "      <td>7.250000</td>\n",
       "    </tr>\n",
       "    <tr>\n",
       "      <th>1</th>\n",
       "      <td>2</td>\n",
       "      <td>1.0</td>\n",
       "      <td>1</td>\n",
       "      <td>1</td>\n",
       "      <td>38.0</td>\n",
       "      <td>1</td>\n",
       "      <td>0</td>\n",
       "      <td>1</td>\n",
       "      <td>2</td>\n",
       "      <td>35.641650</td>\n",
       "    </tr>\n",
       "    <tr>\n",
       "      <th>2</th>\n",
       "      <td>3</td>\n",
       "      <td>1.0</td>\n",
       "      <td>3</td>\n",
       "      <td>1</td>\n",
       "      <td>26.0</td>\n",
       "      <td>0</td>\n",
       "      <td>0</td>\n",
       "      <td>0</td>\n",
       "      <td>1</td>\n",
       "      <td>7.925000</td>\n",
       "    </tr>\n",
       "    <tr>\n",
       "      <th>3</th>\n",
       "      <td>4</td>\n",
       "      <td>1.0</td>\n",
       "      <td>1</td>\n",
       "      <td>1</td>\n",
       "      <td>35.0</td>\n",
       "      <td>1</td>\n",
       "      <td>0</td>\n",
       "      <td>0</td>\n",
       "      <td>2</td>\n",
       "      <td>26.550000</td>\n",
       "    </tr>\n",
       "    <tr>\n",
       "      <th>4</th>\n",
       "      <td>5</td>\n",
       "      <td>0.0</td>\n",
       "      <td>3</td>\n",
       "      <td>0</td>\n",
       "      <td>35.0</td>\n",
       "      <td>0</td>\n",
       "      <td>0</td>\n",
       "      <td>0</td>\n",
       "      <td>1</td>\n",
       "      <td>8.050000</td>\n",
       "    </tr>\n",
       "    <tr>\n",
       "      <th>...</th>\n",
       "      <td>...</td>\n",
       "      <td>...</td>\n",
       "      <td>...</td>\n",
       "      <td>...</td>\n",
       "      <td>...</td>\n",
       "      <td>...</td>\n",
       "      <td>...</td>\n",
       "      <td>...</td>\n",
       "      <td>...</td>\n",
       "      <td>...</td>\n",
       "    </tr>\n",
       "    <tr>\n",
       "      <th>413</th>\n",
       "      <td>1305</td>\n",
       "      <td>NaN</td>\n",
       "      <td>3</td>\n",
       "      <td>0</td>\n",
       "      <td>NaN</td>\n",
       "      <td>0</td>\n",
       "      <td>0</td>\n",
       "      <td>0</td>\n",
       "      <td>1</td>\n",
       "      <td>8.050000</td>\n",
       "    </tr>\n",
       "    <tr>\n",
       "      <th>414</th>\n",
       "      <td>1306</td>\n",
       "      <td>NaN</td>\n",
       "      <td>1</td>\n",
       "      <td>1</td>\n",
       "      <td>39.0</td>\n",
       "      <td>0</td>\n",
       "      <td>0</td>\n",
       "      <td>1</td>\n",
       "      <td>3</td>\n",
       "      <td>36.300000</td>\n",
       "    </tr>\n",
       "    <tr>\n",
       "      <th>415</th>\n",
       "      <td>1307</td>\n",
       "      <td>NaN</td>\n",
       "      <td>3</td>\n",
       "      <td>0</td>\n",
       "      <td>38.5</td>\n",
       "      <td>0</td>\n",
       "      <td>0</td>\n",
       "      <td>0</td>\n",
       "      <td>1</td>\n",
       "      <td>7.250000</td>\n",
       "    </tr>\n",
       "    <tr>\n",
       "      <th>416</th>\n",
       "      <td>1308</td>\n",
       "      <td>NaN</td>\n",
       "      <td>3</td>\n",
       "      <td>0</td>\n",
       "      <td>NaN</td>\n",
       "      <td>0</td>\n",
       "      <td>0</td>\n",
       "      <td>0</td>\n",
       "      <td>1</td>\n",
       "      <td>8.050000</td>\n",
       "    </tr>\n",
       "    <tr>\n",
       "      <th>417</th>\n",
       "      <td>1309</td>\n",
       "      <td>NaN</td>\n",
       "      <td>3</td>\n",
       "      <td>0</td>\n",
       "      <td>NaN</td>\n",
       "      <td>1</td>\n",
       "      <td>1</td>\n",
       "      <td>1</td>\n",
       "      <td>3</td>\n",
       "      <td>7.452767</td>\n",
       "    </tr>\n",
       "  </tbody>\n",
       "</table>\n",
       "<p>1309 rows × 10 columns</p>\n",
       "</div>"
      ],
      "text/plain": [
       "     PassengerId  Survived  Pclass  Sex   Age  SibSp  Parch  Embarked  \\\n",
       "0              1       0.0       3    0  22.0      1      0         0   \n",
       "1              2       1.0       1    1  38.0      1      0         1   \n",
       "2              3       1.0       3    1  26.0      0      0         0   \n",
       "3              4       1.0       1    1  35.0      1      0         0   \n",
       "4              5       0.0       3    0  35.0      0      0         0   \n",
       "..           ...       ...     ...  ...   ...    ...    ...       ...   \n",
       "413         1305       NaN       3    0   NaN      0      0         0   \n",
       "414         1306       NaN       1    1  39.0      0      0         1   \n",
       "415         1307       NaN       3    0  38.5      0      0         0   \n",
       "416         1308       NaN       3    0   NaN      0      0         0   \n",
       "417         1309       NaN       3    0   NaN      1      1         1   \n",
       "\n",
       "     GroupSize  FarePerPassenger  \n",
       "0            1          7.250000  \n",
       "1            2         35.641650  \n",
       "2            1          7.925000  \n",
       "3            2         26.550000  \n",
       "4            1          8.050000  \n",
       "..         ...               ...  \n",
       "413          1          8.050000  \n",
       "414          3         36.300000  \n",
       "415          1          7.250000  \n",
       "416          1          8.050000  \n",
       "417          3          7.452767  \n",
       "\n",
       "[1309 rows x 10 columns]"
      ]
     },
     "execution_count": 14,
     "metadata": {},
     "output_type": "execute_result"
    }
   ],
   "source": [
    "#View the dataset after our first round of Preprocessing\n",
    "titanic"
   ]
  },
  {
   "cell_type": "markdown",
   "metadata": {
    "papermill": {
     "duration": 0.049358,
     "end_time": "2021-01-31T20:57:11.975798",
     "exception": false,
     "start_time": "2021-01-31T20:57:11.926440",
     "status": "completed"
    },
    "tags": []
   },
   "source": [
    "# Predicting Age for missing values"
   ]
  },
  {
   "cell_type": "markdown",
   "metadata": {
    "papermill": {
     "duration": 0.049391,
     "end_time": "2021-01-31T20:57:12.074277",
     "exception": false,
     "start_time": "2021-01-31T20:57:12.024886",
     "status": "completed"
    },
    "tags": []
   },
   "source": [
    "Age is currently missing some of its values and a simple strategy can be taken to input values for those that are missing so that this feature can be used in our Survival predictions.\n",
    "\n",
    "Implement a simple Multiple Imputation by Chained Equations(MICE) process, which creates linear regressions to predict missing values. This is done by\n",
    "1. First splitting the dataset into two datasets, one that includes values where the Age is known and the other which contains missing Age values.\n",
    "2. Then a linear regression model is created with our known Age dataset by using Age values as the dependent variable and the other features as independent variables.\n",
    "3. Finally the model is used to predict unknown Age values.\n",
    "\n",
    "Another possible solution to this includes using KNearestNeightbours(KNN) from sklearn"
   ]
  },
  {
   "cell_type": "code",
   "execution_count": 15,
   "metadata": {
    "execution": {
     "iopub.execute_input": "2021-01-31T20:57:12.178189Z",
     "iopub.status.busy": "2021-01-31T20:57:12.177547Z",
     "iopub.status.idle": "2021-01-31T20:57:12.183627Z",
     "shell.execute_reply": "2021-01-31T20:57:12.182970Z"
    },
    "papermill": {
     "duration": 0.060307,
     "end_time": "2021-01-31T20:57:12.183740",
     "exception": false,
     "start_time": "2021-01-31T20:57:12.123433",
     "status": "completed"
    },
    "tags": []
   },
   "outputs": [
    {
     "data": {
      "text/plain": [
       "263"
      ]
     },
     "execution_count": 15,
     "metadata": {},
     "output_type": "execute_result"
    }
   ],
   "source": [
    "#Find the number of missing Age values\n",
    "titanic['Age'].isnull().sum()"
   ]
  },
  {
   "cell_type": "code",
   "execution_count": 16,
   "metadata": {
    "execution": {
     "iopub.execute_input": "2021-01-31T20:57:12.292090Z",
     "iopub.status.busy": "2021-01-31T20:57:12.289038Z",
     "iopub.status.idle": "2021-01-31T20:57:12.296507Z",
     "shell.execute_reply": "2021-01-31T20:57:12.295944Z"
    },
    "papermill": {
     "duration": 0.063321,
     "end_time": "2021-01-31T20:57:12.296616",
     "exception": false,
     "start_time": "2021-01-31T20:57:12.233295",
     "status": "completed"
    },
    "tags": []
   },
   "outputs": [
    {
     "data": {
      "text/plain": [
       "(1046, 9)"
      ]
     },
     "execution_count": 16,
     "metadata": {},
     "output_type": "execute_result"
    }
   ],
   "source": [
    "#Select the columns needed for modelling, excluding Survival\n",
    "target_array_wAge = [4, 0, 2, 3, 5, 6, 7, 8, 9]\n",
    "targets_wAge = titanic.iloc[:,target_array_wAge]\n",
    "\n",
    "#Create our training datset to only include those that have an Age value\n",
    "age_train = targets_wAge[targets_wAge.Age.notnull()]\n",
    "age_train.shape"
   ]
  },
  {
   "cell_type": "code",
   "execution_count": 17,
   "metadata": {
    "execution": {
     "iopub.execute_input": "2021-01-31T20:57:12.409247Z",
     "iopub.status.busy": "2021-01-31T20:57:12.408473Z",
     "iopub.status.idle": "2021-01-31T20:57:12.412124Z",
     "shell.execute_reply": "2021-01-31T20:57:12.412646Z"
    },
    "papermill": {
     "duration": 0.064909,
     "end_time": "2021-01-31T20:57:12.412781",
     "exception": false,
     "start_time": "2021-01-31T20:57:12.347872",
     "status": "completed"
    },
    "tags": []
   },
   "outputs": [
    {
     "data": {
      "text/plain": [
       "(263, 7)"
      ]
     },
     "execution_count": 17,
     "metadata": {},
     "output_type": "execute_result"
    }
   ],
   "source": [
    "#Create our training datset to only include those that are missing Age values\n",
    "age_test = targets_wAge[targets_wAge.Age.isnull()]\n",
    "\n",
    "#Create two testing dataset, one to predict missing Age values and the other to match PassengerIds to\n",
    "test_x_cols = ['Pclass', 'Sex', 'SibSp', 'Parch','Embarked', 'GroupSize', 'FarePerPassenger']\n",
    "test_x_predict_cols = ['PassengerId','Pclass', 'Sex', 'SibSp', 'Parch','Embarked', 'GroupSize', 'FarePerPassenger']\n",
    "age_test_x = age_test[test_x_cols]\n",
    "age_test_x_predicted = age_test[test_x_predict_cols]\n",
    "\n",
    "age_test_x.shape"
   ]
  },
  {
   "cell_type": "markdown",
   "metadata": {
    "papermill": {
     "duration": 0.056393,
     "end_time": "2021-01-31T20:57:12.519836",
     "exception": false,
     "start_time": "2021-01-31T20:57:12.463443",
     "status": "completed"
    },
    "tags": []
   },
   "source": [
    "Split the train dataset into x inputs and y target columns. Target is the Age column"
   ]
  },
  {
   "cell_type": "code",
   "execution_count": 18,
   "metadata": {
    "execution": {
     "iopub.execute_input": "2021-01-31T20:57:12.657892Z",
     "iopub.status.busy": "2021-01-31T20:57:12.656703Z",
     "iopub.status.idle": "2021-01-31T20:57:12.660622Z",
     "shell.execute_reply": "2021-01-31T20:57:12.661374Z"
    },
    "papermill": {
     "duration": 0.075898,
     "end_time": "2021-01-31T20:57:12.661575",
     "exception": false,
     "start_time": "2021-01-31T20:57:12.585677",
     "status": "completed"
    },
    "tags": []
   },
   "outputs": [],
   "source": [
    "#Inputs(x)\n",
    "train_input_cols = ['Pclass', 'Sex', 'SibSp', 'Parch','Embarked', 'GroupSize', 'FarePerPassenger']\n",
    "age_train_inputs = age_train[train_input_cols]\n",
    "\n",
    "#Target(y)\n",
    "age_train_target_cols = ['Age']\n",
    "age_train_y = age_train[age_train_target_cols]"
   ]
  },
  {
   "cell_type": "markdown",
   "metadata": {
    "papermill": {
     "duration": 0.051995,
     "end_time": "2021-01-31T20:57:12.766212",
     "exception": false,
     "start_time": "2021-01-31T20:57:12.714217",
     "status": "completed"
    },
    "tags": []
   },
   "source": [
    "Create a Standard Scaler object from scikit package to scale the inputs of our training inputs"
   ]
  },
  {
   "cell_type": "code",
   "execution_count": 19,
   "metadata": {
    "execution": {
     "iopub.execute_input": "2021-01-31T20:57:12.877932Z",
     "iopub.status.busy": "2021-01-31T20:57:12.876683Z",
     "iopub.status.idle": "2021-01-31T20:57:12.888520Z",
     "shell.execute_reply": "2021-01-31T20:57:12.889084Z"
    },
    "papermill": {
     "duration": 0.069603,
     "end_time": "2021-01-31T20:57:12.889241",
     "exception": false,
     "start_time": "2021-01-31T20:57:12.819638",
     "status": "completed"
    },
    "tags": []
   },
   "outputs": [],
   "source": [
    "sscaler = StandardScaler()\n",
    "sscaler.fit(age_train_inputs)\n",
    "train_age_scaled_x = sscaler.transform(age_train_inputs)"
   ]
  },
  {
   "cell_type": "markdown",
   "metadata": {
    "papermill": {
     "duration": 0.05357,
     "end_time": "2021-01-31T20:57:12.995953",
     "exception": false,
     "start_time": "2021-01-31T20:57:12.942383",
     "status": "completed"
    },
    "tags": []
   },
   "source": [
    "Create the Linear Regression model for predicting Age based on our training inputs."
   ]
  },
  {
   "cell_type": "code",
   "execution_count": 20,
   "metadata": {
    "execution": {
     "iopub.execute_input": "2021-01-31T20:57:13.105155Z",
     "iopub.status.busy": "2021-01-31T20:57:13.104143Z",
     "iopub.status.idle": "2021-01-31T20:57:13.199021Z",
     "shell.execute_reply": "2021-01-31T20:57:13.198508Z"
    },
    "papermill": {
     "duration": 0.150884,
     "end_time": "2021-01-31T20:57:13.199145",
     "exception": false,
     "start_time": "2021-01-31T20:57:13.048261",
     "status": "completed"
    },
    "tags": []
   },
   "outputs": [
    {
     "data": {
      "text/plain": [
       "0.24719255529345885"
      ]
     },
     "execution_count": 20,
     "metadata": {},
     "output_type": "execute_result"
    }
   ],
   "source": [
    "#Fit and score a Linear Regression\n",
    "lin_reg = LinearRegression()\n",
    "lin_reg.fit(train_age_scaled_x, age_train_y)\n",
    "lin_reg.score(train_age_scaled_x, age_train_y)"
   ]
  },
  {
   "cell_type": "markdown",
   "metadata": {
    "papermill": {
     "duration": 0.052365,
     "end_time": "2021-01-31T20:57:13.302979",
     "exception": false,
     "start_time": "2021-01-31T20:57:13.250614",
     "status": "completed"
    },
    "tags": []
   },
   "source": [
    "Scoring our Linear model's ability to predict Age, it appears the model is highly inaccurate. Regardless, continuing to use this model for predicting Age will provide more variance than simply using a statistical mean, median, or mode to assume values. \n",
    "\n",
    "Next, add the predictions created from the linear model to our original dataset to replace missing values."
   ]
  },
  {
   "cell_type": "code",
   "execution_count": 21,
   "metadata": {
    "execution": {
     "iopub.execute_input": "2021-01-31T20:57:13.409677Z",
     "iopub.status.busy": "2021-01-31T20:57:13.408520Z",
     "iopub.status.idle": "2021-01-31T20:57:13.426468Z",
     "shell.execute_reply": "2021-01-31T20:57:13.425931Z"
    },
    "papermill": {
     "duration": 0.072231,
     "end_time": "2021-01-31T20:57:13.426586",
     "exception": false,
     "start_time": "2021-01-31T20:57:13.354355",
     "status": "completed"
    },
    "tags": []
   },
   "outputs": [
    {
     "data": {
      "text/html": [
       "<div>\n",
       "<style scoped>\n",
       "    .dataframe tbody tr th:only-of-type {\n",
       "        vertical-align: middle;\n",
       "    }\n",
       "\n",
       "    .dataframe tbody tr th {\n",
       "        vertical-align: top;\n",
       "    }\n",
       "\n",
       "    .dataframe thead th {\n",
       "        text-align: right;\n",
       "    }\n",
       "</style>\n",
       "<table border=\"1\" class=\"dataframe\">\n",
       "  <thead>\n",
       "    <tr style=\"text-align: right;\">\n",
       "      <th></th>\n",
       "      <th>PassengerId</th>\n",
       "      <th>Age_predictions</th>\n",
       "    </tr>\n",
       "  </thead>\n",
       "  <tbody>\n",
       "    <tr>\n",
       "      <th>5</th>\n",
       "      <td>6</td>\n",
       "      <td>30.322248</td>\n",
       "    </tr>\n",
       "    <tr>\n",
       "      <th>17</th>\n",
       "      <td>18</td>\n",
       "      <td>45.166802</td>\n",
       "    </tr>\n",
       "    <tr>\n",
       "      <th>19</th>\n",
       "      <td>20</td>\n",
       "      <td>26.417603</td>\n",
       "    </tr>\n",
       "    <tr>\n",
       "      <th>26</th>\n",
       "      <td>27</td>\n",
       "      <td>27.731117</td>\n",
       "    </tr>\n",
       "    <tr>\n",
       "      <th>28</th>\n",
       "      <td>29</td>\n",
       "      <td>27.792060</td>\n",
       "    </tr>\n",
       "    <tr>\n",
       "      <th>...</th>\n",
       "      <td>...</td>\n",
       "      <td>...</td>\n",
       "    </tr>\n",
       "    <tr>\n",
       "      <th>408</th>\n",
       "      <td>1300</td>\n",
       "      <td>27.459266</td>\n",
       "    </tr>\n",
       "    <tr>\n",
       "      <th>410</th>\n",
       "      <td>1302</td>\n",
       "      <td>27.520614</td>\n",
       "    </tr>\n",
       "    <tr>\n",
       "      <th>413</th>\n",
       "      <td>1305</td>\n",
       "      <td>29.984742</td>\n",
       "    </tr>\n",
       "    <tr>\n",
       "      <th>416</th>\n",
       "      <td>1308</td>\n",
       "      <td>29.984742</td>\n",
       "    </tr>\n",
       "    <tr>\n",
       "      <th>417</th>\n",
       "      <td>1309</td>\n",
       "      <td>22.028151</td>\n",
       "    </tr>\n",
       "  </tbody>\n",
       "</table>\n",
       "<p>263 rows × 2 columns</p>\n",
       "</div>"
      ],
      "text/plain": [
       "     PassengerId  Age_predictions\n",
       "5              6        30.322248\n",
       "17            18        45.166802\n",
       "19            20        26.417603\n",
       "26            27        27.731117\n",
       "28            29        27.792060\n",
       "..           ...              ...\n",
       "408         1300        27.459266\n",
       "410         1302        27.520614\n",
       "413         1305        29.984742\n",
       "416         1308        29.984742\n",
       "417         1309        22.028151\n",
       "\n",
       "[263 rows x 2 columns]"
      ]
     },
     "execution_count": 21,
     "metadata": {},
     "output_type": "execute_result"
    }
   ],
   "source": [
    "#Add predictions to our Age column\n",
    "age_test_x_predicted['Age_predictions'] = lin_reg.predict(age_test_x)\n",
    "age_test_x_predicted = age_test_x_predicted.iloc[:,[0,8]]\n",
    "age_test_x_predicted"
   ]
  },
  {
   "cell_type": "code",
   "execution_count": 22,
   "metadata": {
    "execution": {
     "iopub.execute_input": "2021-01-31T20:57:13.538470Z",
     "iopub.status.busy": "2021-01-31T20:57:13.537426Z",
     "iopub.status.idle": "2021-01-31T20:57:13.550904Z",
     "shell.execute_reply": "2021-01-31T20:57:13.550350Z"
    },
    "papermill": {
     "duration": 0.072107,
     "end_time": "2021-01-31T20:57:13.551049",
     "exception": false,
     "start_time": "2021-01-31T20:57:13.478942",
     "status": "completed"
    },
    "tags": []
   },
   "outputs": [],
   "source": [
    "#Merge these predictions onto our original dataset\n",
    "titanic_age_predicted = pd.merge(titanic, age_test_x_predicted, on='PassengerId', how='left')"
   ]
  },
  {
   "cell_type": "code",
   "execution_count": 23,
   "metadata": {
    "execution": {
     "iopub.execute_input": "2021-01-31T20:57:13.661799Z",
     "iopub.status.busy": "2021-01-31T20:57:13.660998Z",
     "iopub.status.idle": "2021-01-31T20:57:13.712260Z",
     "shell.execute_reply": "2021-01-31T20:57:13.712747Z"
    },
    "papermill": {
     "duration": 0.10974,
     "end_time": "2021-01-31T20:57:13.712916",
     "exception": false,
     "start_time": "2021-01-31T20:57:13.603176",
     "status": "completed"
    },
    "tags": []
   },
   "outputs": [],
   "source": [
    "#Replace Age values with Age_predictions if they were null\n",
    "for i in range(len(titanic_age_predicted['Age'])):\n",
    "    if np.isnan(titanic_age_predicted['Age'][i]):\n",
    "        insert_age = titanic_age_predicted['Age_predictions'][i]\n",
    "        titanic_age_predicted['Age'][i] = insert_age"
   ]
  },
  {
   "cell_type": "code",
   "execution_count": 24,
   "metadata": {
    "execution": {
     "iopub.execute_input": "2021-01-31T20:57:13.825711Z",
     "iopub.status.busy": "2021-01-31T20:57:13.825058Z",
     "iopub.status.idle": "2021-01-31T20:57:13.827618Z",
     "shell.execute_reply": "2021-01-31T20:57:13.828449Z"
    },
    "papermill": {
     "duration": 0.062745,
     "end_time": "2021-01-31T20:57:13.828605",
     "exception": false,
     "start_time": "2021-01-31T20:57:13.765860",
     "status": "completed"
    },
    "tags": []
   },
   "outputs": [
    {
     "data": {
      "text/plain": [
       "0"
      ]
     },
     "execution_count": 24,
     "metadata": {},
     "output_type": "execute_result"
    }
   ],
   "source": [
    "#Display amount of missing Age Values\n",
    "np.isnan(titanic_age_predicted['Age']).sum()"
   ]
  },
  {
   "cell_type": "markdown",
   "metadata": {
    "papermill": {
     "duration": 0.05694,
     "end_time": "2021-01-31T20:57:13.944034",
     "exception": false,
     "start_time": "2021-01-31T20:57:13.887094",
     "status": "completed"
    },
    "tags": []
   },
   "source": [
    "Sure enough, no more missing values are displayed in the Age column"
   ]
  },
  {
   "cell_type": "code",
   "execution_count": 25,
   "metadata": {
    "execution": {
     "iopub.execute_input": "2021-01-31T20:57:14.066048Z",
     "iopub.status.busy": "2021-01-31T20:57:14.065363Z",
     "iopub.status.idle": "2021-01-31T20:57:14.067554Z",
     "shell.execute_reply": "2021-01-31T20:57:14.068052Z"
    },
    "papermill": {
     "duration": 0.066662,
     "end_time": "2021-01-31T20:57:14.068221",
     "exception": false,
     "start_time": "2021-01-31T20:57:14.001559",
     "status": "completed"
    },
    "tags": []
   },
   "outputs": [],
   "source": [
    "#Drop the temporary predictions for Age as we have already replaced our missing Age values with predicted Age values\n",
    "titanic_age_predicted = titanic_age_predicted.drop(['Age_predictions'], axis = 1)"
   ]
  },
  {
   "cell_type": "markdown",
   "metadata": {
    "papermill": {
     "duration": 0.053156,
     "end_time": "2021-01-31T20:57:14.174429",
     "exception": false,
     "start_time": "2021-01-31T20:57:14.121273",
     "status": "completed"
    },
    "tags": []
   },
   "source": [
    "# Splitting back into training and testing datasets"
   ]
  },
  {
   "cell_type": "markdown",
   "metadata": {
    "papermill": {
     "duration": 0.052143,
     "end_time": "2021-01-31T20:57:14.279035",
     "exception": false,
     "start_time": "2021-01-31T20:57:14.226892",
     "status": "completed"
    },
    "tags": []
   },
   "source": [
    "Now that our preprocessing is complete, we will reseparate the datasets back into train and test datasets based on whether Survival is known or not."
   ]
  },
  {
   "cell_type": "code",
   "execution_count": 26,
   "metadata": {
    "execution": {
     "iopub.execute_input": "2021-01-31T20:57:14.389211Z",
     "iopub.status.busy": "2021-01-31T20:57:14.388461Z",
     "iopub.status.idle": "2021-01-31T20:57:14.395108Z",
     "shell.execute_reply": "2021-01-31T20:57:14.395693Z"
    },
    "papermill": {
     "duration": 0.062906,
     "end_time": "2021-01-31T20:57:14.395834",
     "exception": false,
     "start_time": "2021-01-31T20:57:14.332928",
     "status": "completed"
    },
    "tags": []
   },
   "outputs": [],
   "source": [
    "#Separate back into our train and test datasets\n",
    "titanic_train = titanic_age_predicted[titanic_age_predicted.Survived.notnull()]\n",
    "titanic_test = titanic_age_predicted[titanic_age_predicted.Survived.isnull()]"
   ]
  },
  {
   "cell_type": "markdown",
   "metadata": {
    "papermill": {
     "duration": 0.052851,
     "end_time": "2021-01-31T20:57:14.502638",
     "exception": false,
     "start_time": "2021-01-31T20:57:14.449787",
     "status": "completed"
    },
    "tags": []
   },
   "source": [
    "Decided to select an in-between selection of features. Features with Coefficeints near 0 and Odds Ratios near 1 were removed but not those that were only slightly impactful.\n",
    "\n",
    "First model created was overfit, only 9 Passengers in our test dataset were shown to survive.\n",
    "The features Parch, Embarked, GroupSize, and FarePerPassenger had a Coefficient near 0 and an Odds Ratio near 1 when fitting a Logistic Regression model.\n",
    "\n",
    "Our third model was underfit and lowered the score on our model, this model took only the top 2 features that were most influential to our model(Sex and Pclass) and dropped all other variables.\n",
    "\n",
    "\n",
    "* Coefficient shows the feature's general impact on our model, a Coefficient near 0 only overfits a model and can be roughly interepted to mean the p value is too high.\n",
    "* Odds Ratio represents a multipler associated with how likely survival is, an Odds Ratio of x for a feature means that the for each 1 increase in that feature's value there is an x times higher likelihood of survival. An Odds Ratio near 1 only means that there is very little change in survival likelihood for each change in the feature."
   ]
  },
  {
   "cell_type": "code",
   "execution_count": 27,
   "metadata": {
    "execution": {
     "iopub.execute_input": "2021-01-31T20:57:14.611927Z",
     "iopub.status.busy": "2021-01-31T20:57:14.611226Z",
     "iopub.status.idle": "2021-01-31T20:57:14.623944Z",
     "shell.execute_reply": "2021-01-31T20:57:14.624531Z"
    },
    "papermill": {
     "duration": 0.068865,
     "end_time": "2021-01-31T20:57:14.624689",
     "exception": false,
     "start_time": "2021-01-31T20:57:14.555824",
     "status": "completed"
    },
    "tags": []
   },
   "outputs": [],
   "source": [
    "#Chose to move forwards with the training features in titanic_train_x1 and disregard titanic_train_x and titanic_train_x2\n",
    "#Split our datasets into x an y inputs, x representing the training features and y representing the target(Survival) to use in our model\n",
    "\n",
    "titanic_train_x = titanic_train.loc[:,['Pclass', 'Sex', 'Age', 'SibSp', 'Parch', 'Embarked', 'GroupSize', 'FarePerPassenger']]\n",
    "titanic_train_x1 = titanic_train.loc[:, ['Pclass', 'Sex', 'Age', 'SibSp']]\n",
    "titanic_train_x2 = titanic_train.loc[:, ['Pclass', 'Sex']]\n",
    "titanic_train_y = titanic_train.loc[:, ['Survived']]\n",
    "\n",
    "\n",
    "titanic_train_y['Survived'] = titanic_train_y['Survived'].astype('int')\n",
    "titanic_train_y = titanic_train_y[['Survived']].to_numpy()\n",
    "titanic_train_y = np.ravel(titanic_train_y)"
   ]
  },
  {
   "cell_type": "code",
   "execution_count": 28,
   "metadata": {
    "execution": {
     "iopub.execute_input": "2021-01-31T20:57:14.734433Z",
     "iopub.status.busy": "2021-01-31T20:57:14.733529Z",
     "iopub.status.idle": "2021-01-31T20:57:14.756273Z",
     "shell.execute_reply": "2021-01-31T20:57:14.755598Z"
    },
    "papermill": {
     "duration": 0.078753,
     "end_time": "2021-01-31T20:57:14.756387",
     "exception": false,
     "start_time": "2021-01-31T20:57:14.677634",
     "status": "completed"
    },
    "tags": []
   },
   "outputs": [
    {
     "data": {
      "text/html": [
       "<div>\n",
       "<style scoped>\n",
       "    .dataframe tbody tr th:only-of-type {\n",
       "        vertical-align: middle;\n",
       "    }\n",
       "\n",
       "    .dataframe tbody tr th {\n",
       "        vertical-align: top;\n",
       "    }\n",
       "\n",
       "    .dataframe thead th {\n",
       "        text-align: right;\n",
       "    }\n",
       "</style>\n",
       "<table border=\"1\" class=\"dataframe\">\n",
       "  <thead>\n",
       "    <tr style=\"text-align: right;\">\n",
       "      <th></th>\n",
       "      <th>Pclass</th>\n",
       "      <th>Sex</th>\n",
       "      <th>Age</th>\n",
       "      <th>SibSp</th>\n",
       "    </tr>\n",
       "  </thead>\n",
       "  <tbody>\n",
       "    <tr>\n",
       "      <th>891</th>\n",
       "      <td>3</td>\n",
       "      <td>0</td>\n",
       "      <td>34.500000</td>\n",
       "      <td>0</td>\n",
       "    </tr>\n",
       "    <tr>\n",
       "      <th>892</th>\n",
       "      <td>3</td>\n",
       "      <td>1</td>\n",
       "      <td>47.000000</td>\n",
       "      <td>1</td>\n",
       "    </tr>\n",
       "    <tr>\n",
       "      <th>893</th>\n",
       "      <td>2</td>\n",
       "      <td>0</td>\n",
       "      <td>62.000000</td>\n",
       "      <td>0</td>\n",
       "    </tr>\n",
       "    <tr>\n",
       "      <th>894</th>\n",
       "      <td>3</td>\n",
       "      <td>0</td>\n",
       "      <td>27.000000</td>\n",
       "      <td>0</td>\n",
       "    </tr>\n",
       "    <tr>\n",
       "      <th>895</th>\n",
       "      <td>3</td>\n",
       "      <td>1</td>\n",
       "      <td>22.000000</td>\n",
       "      <td>1</td>\n",
       "    </tr>\n",
       "    <tr>\n",
       "      <th>...</th>\n",
       "      <td>...</td>\n",
       "      <td>...</td>\n",
       "      <td>...</td>\n",
       "      <td>...</td>\n",
       "    </tr>\n",
       "    <tr>\n",
       "      <th>1304</th>\n",
       "      <td>3</td>\n",
       "      <td>0</td>\n",
       "      <td>29.984742</td>\n",
       "      <td>0</td>\n",
       "    </tr>\n",
       "    <tr>\n",
       "      <th>1305</th>\n",
       "      <td>1</td>\n",
       "      <td>1</td>\n",
       "      <td>39.000000</td>\n",
       "      <td>0</td>\n",
       "    </tr>\n",
       "    <tr>\n",
       "      <th>1306</th>\n",
       "      <td>3</td>\n",
       "      <td>0</td>\n",
       "      <td>38.500000</td>\n",
       "      <td>0</td>\n",
       "    </tr>\n",
       "    <tr>\n",
       "      <th>1307</th>\n",
       "      <td>3</td>\n",
       "      <td>0</td>\n",
       "      <td>29.984742</td>\n",
       "      <td>0</td>\n",
       "    </tr>\n",
       "    <tr>\n",
       "      <th>1308</th>\n",
       "      <td>3</td>\n",
       "      <td>0</td>\n",
       "      <td>22.028151</td>\n",
       "      <td>1</td>\n",
       "    </tr>\n",
       "  </tbody>\n",
       "</table>\n",
       "<p>418 rows × 4 columns</p>\n",
       "</div>"
      ],
      "text/plain": [
       "      Pclass  Sex        Age  SibSp\n",
       "891        3    0  34.500000      0\n",
       "892        3    1  47.000000      1\n",
       "893        2    0  62.000000      0\n",
       "894        3    0  27.000000      0\n",
       "895        3    1  22.000000      1\n",
       "...      ...  ...        ...    ...\n",
       "1304       3    0  29.984742      0\n",
       "1305       1    1  39.000000      0\n",
       "1306       3    0  38.500000      0\n",
       "1307       3    0  29.984742      0\n",
       "1308       3    0  22.028151      1\n",
       "\n",
       "[418 rows x 4 columns]"
      ]
     },
     "execution_count": 28,
     "metadata": {},
     "output_type": "execute_result"
    }
   ],
   "source": [
    "#Chose to move forwards with the training features in titanic_test_x1 and disregard titanic_test_x and titanic_test_x2\n",
    "#The test dataset will only have an x input to be used to predict our y(Survival)\n",
    "titanic_test_x = titanic_test.drop(['Survived'], axis = 1)\n",
    "titanic_test_x1 = titanic_test.drop(['Survived', 'Parch', 'Embarked', 'GroupSize', 'FarePerPassenger'], axis = 1)\n",
    "titanic_test_x2 = titanic_test.drop(['Survived', 'Parch', 'Embarked', 'GroupSize', 'FarePerPassenger', 'Age', 'SibSp'], axis = 1)\n",
    "titanic_test_x_noID = titanic_test_x1.drop(['PassengerId'], axis = 1)\n",
    "titanic_test_x_noID"
   ]
  },
  {
   "cell_type": "markdown",
   "metadata": {
    "papermill": {
     "duration": 0.055123,
     "end_time": "2021-01-31T20:57:14.864997",
     "exception": false,
     "start_time": "2021-01-31T20:57:14.809874",
     "status": "completed"
    },
    "tags": []
   },
   "source": [
    "# Standarizing our inputs"
   ]
  },
  {
   "cell_type": "code",
   "execution_count": 29,
   "metadata": {
    "execution": {
     "iopub.execute_input": "2021-01-31T20:57:14.981827Z",
     "iopub.status.busy": "2021-01-31T20:57:14.981147Z",
     "iopub.status.idle": "2021-01-31T20:57:14.991195Z",
     "shell.execute_reply": "2021-01-31T20:57:14.991866Z"
    },
    "papermill": {
     "duration": 0.072254,
     "end_time": "2021-01-31T20:57:14.992128",
     "exception": false,
     "start_time": "2021-01-31T20:57:14.919874",
     "status": "completed"
    },
    "tags": []
   },
   "outputs": [
    {
     "data": {
      "text/plain": [
       "StandardScaler()"
      ]
     },
     "execution_count": 29,
     "metadata": {},
     "output_type": "execute_result"
    }
   ],
   "source": [
    "#Use our StandardScaler method from earlier(used when preparing our data for predicting Age)\n",
    "#Scale both the training and testing x datasets\n",
    "sscaler.fit(titanic_train_x1)\n",
    "sscaler.fit(titanic_test_x_noID)"
   ]
  },
  {
   "cell_type": "code",
   "execution_count": 30,
   "metadata": {
    "execution": {
     "iopub.execute_input": "2021-01-31T20:57:15.104840Z",
     "iopub.status.busy": "2021-01-31T20:57:15.104203Z",
     "iopub.status.idle": "2021-01-31T20:57:15.112793Z",
     "shell.execute_reply": "2021-01-31T20:57:15.113327Z"
    },
    "papermill": {
     "duration": 0.066048,
     "end_time": "2021-01-31T20:57:15.113469",
     "exception": false,
     "start_time": "2021-01-31T20:57:15.047421",
     "status": "completed"
    },
    "tags": []
   },
   "outputs": [],
   "source": [
    "#Transform both datasets into a new array that is modelling-friendly\n",
    "titanic_train_x_scaled = sscaler.transform(titanic_train_x1)\n",
    "titanic_test_x_scaled = sscaler.transform(titanic_test_x_noID)"
   ]
  },
  {
   "cell_type": "markdown",
   "metadata": {
    "papermill": {
     "duration": 0.054584,
     "end_time": "2021-01-31T20:57:15.222246",
     "exception": false,
     "start_time": "2021-01-31T20:57:15.167662",
     "status": "completed"
    },
    "tags": []
   },
   "source": [
    "# Fitting and Scoring a Logistic Regression"
   ]
  },
  {
   "cell_type": "markdown",
   "metadata": {
    "papermill": {
     "duration": 0.054915,
     "end_time": "2021-01-31T20:57:15.331834",
     "exception": false,
     "start_time": "2021-01-31T20:57:15.276919",
     "status": "completed"
    },
    "tags": []
   },
   "source": [
    "Now that datatypes are converted to numeric form and missing values have been replaced, we can fit our Logistic Regression"
   ]
  },
  {
   "cell_type": "code",
   "execution_count": 31,
   "metadata": {
    "execution": {
     "iopub.execute_input": "2021-01-31T20:57:15.444472Z",
     "iopub.status.busy": "2021-01-31T20:57:15.443778Z",
     "iopub.status.idle": "2021-01-31T20:57:15.461144Z",
     "shell.execute_reply": "2021-01-31T20:57:15.460517Z"
    },
    "papermill": {
     "duration": 0.07489,
     "end_time": "2021-01-31T20:57:15.461261",
     "exception": false,
     "start_time": "2021-01-31T20:57:15.386371",
     "status": "completed"
    },
    "tags": []
   },
   "outputs": [
    {
     "data": {
      "text/plain": [
       "0.8035914702581369"
      ]
     },
     "execution_count": 31,
     "metadata": {},
     "output_type": "execute_result"
    }
   ],
   "source": [
    "#Create a new model object and fit with our training features\n",
    "titanic_logreg = LogisticRegression()\n",
    "titanic_logreg.fit(titanic_train_x_scaled, titanic_train_y)\n",
    "titanic_logreg.score(titanic_train_x_scaled, titanic_train_y)"
   ]
  },
  {
   "cell_type": "markdown",
   "metadata": {
    "papermill": {
     "duration": 0.055895,
     "end_time": "2021-01-31T20:57:15.571984",
     "exception": false,
     "start_time": "2021-01-31T20:57:15.516089",
     "status": "completed"
    },
    "tags": []
   },
   "source": [
    "With a score around 80%, we are correctly predicting the survival of 4 out of 5 passengers. This is a good spot to be in."
   ]
  },
  {
   "cell_type": "markdown",
   "metadata": {
    "papermill": {
     "duration": 0.056213,
     "end_time": "2021-01-31T20:57:15.683457",
     "exception": false,
     "start_time": "2021-01-31T20:57:15.627244",
     "status": "completed"
    },
    "tags": []
   },
   "source": [
    "# Evaluating features"
   ]
  },
  {
   "cell_type": "markdown",
   "metadata": {
    "papermill": {
     "duration": 0.054149,
     "end_time": "2021-01-31T20:57:15.792462",
     "exception": false,
     "start_time": "2021-01-31T20:57:15.738313",
     "status": "completed"
    },
    "tags": []
   },
   "source": [
    "As mentioned earlier, we initially modelled with all the features given as well as the features GroupSize and FarePerPassenger, which were calculated from our Ticket and Fare features as a replacement with more standardized values.\n",
    "This seems to have been a valient attempt to add meaning to our Ticket and Fare columns but the features GroupSize and FarePerPassenger were ultimately scraped due to their low impact on our logisitc model(Coefficient near 0 and Odds Ratio near 1)\n",
    "\n",
    "Similarly, we also dropped Parch and Embarked as it had almost no impact on our model."
   ]
  },
  {
   "cell_type": "code",
   "execution_count": 32,
   "metadata": {
    "execution": {
     "iopub.execute_input": "2021-01-31T20:57:15.923666Z",
     "iopub.status.busy": "2021-01-31T20:57:15.922932Z",
     "iopub.status.idle": "2021-01-31T20:57:15.927239Z",
     "shell.execute_reply": "2021-01-31T20:57:15.927706Z"
    },
    "papermill": {
     "duration": 0.080717,
     "end_time": "2021-01-31T20:57:15.927865",
     "exception": false,
     "start_time": "2021-01-31T20:57:15.847148",
     "status": "completed"
    },
    "tags": []
   },
   "outputs": [
    {
     "data": {
      "text/html": [
       "<div>\n",
       "<style scoped>\n",
       "    .dataframe tbody tr th:only-of-type {\n",
       "        vertical-align: middle;\n",
       "    }\n",
       "\n",
       "    .dataframe tbody tr th {\n",
       "        vertical-align: top;\n",
       "    }\n",
       "\n",
       "    .dataframe thead th {\n",
       "        text-align: right;\n",
       "    }\n",
       "</style>\n",
       "<table border=\"1\" class=\"dataframe\">\n",
       "  <thead>\n",
       "    <tr style=\"text-align: right;\">\n",
       "      <th></th>\n",
       "      <th>Feature name</th>\n",
       "      <th>Coefficient</th>\n",
       "      <th>Odds ratio</th>\n",
       "    </tr>\n",
       "  </thead>\n",
       "  <tbody>\n",
       "    <tr>\n",
       "      <th>2</th>\n",
       "      <td>Sex</td>\n",
       "      <td>1.304204</td>\n",
       "      <td>3.684756</td>\n",
       "    </tr>\n",
       "    <tr>\n",
       "      <th>4</th>\n",
       "      <td>SibSp</td>\n",
       "      <td>-0.320374</td>\n",
       "      <td>0.725877</td>\n",
       "    </tr>\n",
       "    <tr>\n",
       "      <th>3</th>\n",
       "      <td>Age</td>\n",
       "      <td>-0.372050</td>\n",
       "      <td>0.689320</td>\n",
       "    </tr>\n",
       "    <tr>\n",
       "      <th>0</th>\n",
       "      <td>Intercept</td>\n",
       "      <td>-0.527483</td>\n",
       "      <td>0.590089</td>\n",
       "    </tr>\n",
       "    <tr>\n",
       "      <th>1</th>\n",
       "      <td>Pclass</td>\n",
       "      <td>-0.995364</td>\n",
       "      <td>0.369589</td>\n",
       "    </tr>\n",
       "  </tbody>\n",
       "</table>\n",
       "</div>"
      ],
      "text/plain": [
       "  Feature name  Coefficient  Odds ratio\n",
       "2          Sex     1.304204    3.684756\n",
       "4        SibSp    -0.320374    0.725877\n",
       "3          Age    -0.372050    0.689320\n",
       "0    Intercept    -0.527483    0.590089\n",
       "1       Pclass    -0.995364    0.369589"
      ]
     },
     "execution_count": 32,
     "metadata": {},
     "output_type": "execute_result"
    }
   ],
   "source": [
    "#Create a summary table that displays Coefficients\n",
    "feature_name = titanic_train_x1.columns.values\n",
    "logreg_summary_table = pd.DataFrame(columns = ['Feature name'], data = feature_name)\n",
    "logreg_summary_table['Coefficient'] = np.transpose(titanic_logreg.coef_)\n",
    "\n",
    "#Add our model's Intercept to this summary table\n",
    "logreg_summary_table.index = logreg_summary_table.index + 1\n",
    "logreg_summary_table.loc[0] = ['Intercept', titanic_logreg.intercept_[0]]\n",
    "\n",
    "#Add our Odds Ratio stats as well and sort by the highest Odds Ratio\n",
    "logreg_summary_table['Odds ratio'] = np.exp(logreg_summary_table.Coefficient)\n",
    "logreg_summary_table.sort_values('Odds ratio', ascending = False)"
   ]
  },
  {
   "cell_type": "markdown",
   "metadata": {
    "papermill": {
     "duration": 0.058237,
     "end_time": "2021-01-31T20:57:16.043867",
     "exception": false,
     "start_time": "2021-01-31T20:57:15.985630",
     "status": "completed"
    },
    "tags": []
   },
   "source": [
    "It looks like PClass and Sex are shown to have the highest impact on our model. Both have high Coefficients and Odds Ratio. Females are about 3.7 times more likely to survive than males(males were assigned to 0 and females were assigned to 1).\n",
    "\n",
    "The class ticket that you carried also was a strong indication of your survival likelihood. An Odds Ratio of about 0.37 means that every increase in 1 class(eg. from 1st to 2nd class) drops your survival rate by about three-fold. The negative Coefficient also supports this, a lower Pclass is associated stronger with survival.\n",
    "\n",
    "Age and SibSp seem to both be negatively correlated with Survival. The more siblings you have and the older you are, the lower your chances of surviving. These features have a lower impact on our model but should still be included."
   ]
  },
  {
   "cell_type": "markdown",
   "metadata": {
    "papermill": {
     "duration": 0.055181,
     "end_time": "2021-01-31T20:57:16.155342",
     "exception": false,
     "start_time": "2021-01-31T20:57:16.100161",
     "status": "completed"
    },
    "tags": []
   },
   "source": [
    "# Testing the model"
   ]
  },
  {
   "cell_type": "code",
   "execution_count": 33,
   "metadata": {
    "execution": {
     "iopub.execute_input": "2021-01-31T20:57:16.275775Z",
     "iopub.status.busy": "2021-01-31T20:57:16.274056Z",
     "iopub.status.idle": "2021-01-31T20:57:16.279920Z",
     "shell.execute_reply": "2021-01-31T20:57:16.279376Z"
    },
    "papermill": {
     "duration": 0.069472,
     "end_time": "2021-01-31T20:57:16.280060",
     "exception": false,
     "start_time": "2021-01-31T20:57:16.210588",
     "status": "completed"
    },
    "tags": []
   },
   "outputs": [
    {
     "data": {
      "text/plain": [
       "0.3803827751196172"
      ]
     },
     "execution_count": 33,
     "metadata": {},
     "output_type": "execute_result"
    }
   ],
   "source": [
    "#Add predictions for Survival onto our test dataset using the logistic model\n",
    "titanic_test_x['Survived_pred'] = titanic_logreg.predict(titanic_test_x_scaled)\n",
    "\n",
    "#Show the survival rate on our test dataset, we are unable to calculate score without the reality of whether our predicts were correct.. yet\n",
    "titanic_test_x[titanic_test_x['Survived_pred'] == 1].shape[0]/titanic_test_x.shape[0]"
   ]
  },
  {
   "cell_type": "code",
   "execution_count": 34,
   "metadata": {
    "execution": {
     "iopub.execute_input": "2021-01-31T20:57:16.402718Z",
     "iopub.status.busy": "2021-01-31T20:57:16.401976Z",
     "iopub.status.idle": "2021-01-31T20:57:16.406881Z",
     "shell.execute_reply": "2021-01-31T20:57:16.406244Z"
    },
    "papermill": {
     "duration": 0.069515,
     "end_time": "2021-01-31T20:57:16.406995",
     "exception": false,
     "start_time": "2021-01-31T20:57:16.337480",
     "status": "completed"
    },
    "tags": []
   },
   "outputs": [
    {
     "data": {
      "text/plain": [
       "0.2612681436210848"
      ]
     },
     "execution_count": 34,
     "metadata": {},
     "output_type": "execute_result"
    }
   ],
   "source": [
    "#Show the survival rate on the original dataset\n",
    "titanic[titanic['Survived'] == 1].shape[0]/titanic.shape[0]"
   ]
  },
  {
   "cell_type": "markdown",
   "metadata": {
    "papermill": {
     "duration": 0.057041,
     "end_time": "2021-01-31T20:57:16.521272",
     "exception": false,
     "start_time": "2021-01-31T20:57:16.464231",
     "status": "completed"
    },
    "tags": []
   },
   "source": [
    "Our model after tuning is no longer overfit. Initially the model only predicted 9 survivors out of 418 passengers in our test dataset, a far lower proportion of survivors than on the initial dataset.\n",
    "\n",
    "Keeping only the Pclass, Sex, Age, and SibSp features allowed for our model to work somewhat well fitting the test dataset, showing that about 38% of passengers would survive, a higher stat than the 26% of passengers surviving on our training dataset."
   ]
  },
  {
   "cell_type": "markdown",
   "metadata": {
    "papermill": {
     "duration": 0.058081,
     "end_time": "2021-01-31T20:57:16.637363",
     "exception": false,
     "start_time": "2021-01-31T20:57:16.579282",
     "status": "completed"
    },
    "tags": []
   },
   "source": [
    "# Analyzing our Model"
   ]
  },
  {
   "cell_type": "markdown",
   "metadata": {
    "papermill": {
     "duration": 0.058043,
     "end_time": "2021-01-31T20:57:16.752414",
     "exception": false,
     "start_time": "2021-01-31T20:57:16.694371",
     "status": "completed"
    },
    "tags": []
   },
   "source": [
    "Let's take a look at our most influential features, Sex and Pclass, and compare how our model predicts survival rate to what our training dataset tell us about survival."
   ]
  },
  {
   "cell_type": "code",
   "execution_count": 35,
   "metadata": {
    "execution": {
     "iopub.execute_input": "2021-01-31T20:57:16.878220Z",
     "iopub.status.busy": "2021-01-31T20:57:16.877287Z",
     "iopub.status.idle": "2021-01-31T20:57:17.344728Z",
     "shell.execute_reply": "2021-01-31T20:57:17.344121Z"
    },
    "papermill": {
     "duration": 0.534575,
     "end_time": "2021-01-31T20:57:17.344857",
     "exception": false,
     "start_time": "2021-01-31T20:57:16.810282",
     "status": "completed"
    },
    "tags": []
   },
   "outputs": [
    {
     "data": {
      "image/png": "[encoded data removed]",
      "text/plain": [
       "<Figure size 432x288 with 2 Axes>"
      ]
     },
     "metadata": {
      "needs_background": "light"
     },
     "output_type": "display_data"
    }
   ],
   "source": [
    "#Plot a bar chart comparing Male and Female survival for both the training and testing datasets\n",
    "plt.subplot(1, 2, 1)\n",
    "sns.barplot(x='Sex', y='Survived_pred', data=titanic_test_x,palette=['cyan','yellow'])\n",
    "plt.legend(['0 = Males', '1 = Females'], loc='top left')\n",
    "plt.axis([-0.5, 1.5, 0, 1])\n",
    "plt.title(\"Test dataset\")\n",
    "\n",
    "plt.subplot(1, 2, 2)\n",
    "sns.barplot(x='Sex', y='Survived', data=titanic,palette=['cyan','yellow'])\n",
    "plt.legend(['0 = Males', '1 = Females'], loc='top left')\n",
    "plt.axis([-0.5, 1.5, 0, 1])\n",
    "plt.title(\"Training dataset\")\n",
    "plt.tight_layout()"
   ]
  },
  {
   "cell_type": "markdown",
   "metadata": {
    "papermill": {
     "duration": 0.058768,
     "end_time": "2021-01-31T20:57:17.462531",
     "exception": false,
     "start_time": "2021-01-31T20:57:17.403763",
     "status": "completed"
    },
    "tags": []
   },
   "source": [
    "We can see our model is overpredicting female survival compared to male survival. Let's see if this is explained by our other strong feature, Pclass"
   ]
  },
  {
   "cell_type": "code",
   "execution_count": 36,
   "metadata": {
    "execution": {
     "iopub.execute_input": "2021-01-31T20:57:17.598787Z",
     "iopub.status.busy": "2021-01-31T20:57:17.597991Z",
     "iopub.status.idle": "2021-01-31T20:57:18.114850Z",
     "shell.execute_reply": "2021-01-31T20:57:18.114181Z"
    },
    "papermill": {
     "duration": 0.592356,
     "end_time": "2021-01-31T20:57:18.114967",
     "exception": false,
     "start_time": "2021-01-31T20:57:17.522611",
     "status": "completed"
    },
    "tags": []
   },
   "outputs": [
    {
     "data": {
      "image/png": "[encoded data removed]",
      "text/plain": [
       "<Figure size 432x288 with 2 Axes>"
      ]
     },
     "metadata": {
      "needs_background": "light"
     },
     "output_type": "display_data"
    }
   ],
   "source": [
    "#Plot a bar chart comparing survival between Classes for both the training and testing datasets\n",
    "plt.subplot(1, 2, 1)\n",
    "sns.barplot(x='Pclass', y='Survived_pred', data=titanic_test_x,palette=['pink','blue', 'orange'])\n",
    "plt.legend(['1 = First Class', '2 = Second Class', '3 = Third Class'], loc='top right')\n",
    "plt.axis([-0.5, 2.5, 0, 1])\n",
    "plt.title(\"Test dataset\")\n",
    "\n",
    "plt.subplot(1, 2, 2)\n",
    "sns.barplot(x='Pclass', y='Survived', data=titanic,palette=['pink','blue', 'orange'])\n",
    "plt.legend(['1 = First Class', '2 = Second Class', '3 = Third Class'], loc='top right')\n",
    "plt.axis([-0.5, 2.5, 0, 1])\n",
    "plt.title(\"Training dataset\")\n",
    "plt.tight_layout()"
   ]
  },
  {
   "cell_type": "markdown",
   "metadata": {
    "papermill": {
     "duration": 0.062631,
     "end_time": "2021-01-31T20:57:18.240586",
     "exception": false,
     "start_time": "2021-01-31T20:57:18.177955",
     "status": "completed"
    },
    "tags": []
   },
   "source": [
    "While the predictions for 1st class survival rate was on par with what we saw in our training dataset, our logistic model predicted a higher 3rd class survival rate\n",
    "\n",
    "Next we will combine these two features to see which has the greater impact"
   ]
  },
  {
   "cell_type": "code",
   "execution_count": 37,
   "metadata": {
    "execution": {
     "iopub.execute_input": "2021-01-31T20:57:18.457733Z",
     "iopub.status.busy": "2021-01-31T20:57:18.373950Z",
     "iopub.status.idle": "2021-01-31T20:57:19.184514Z",
     "shell.execute_reply": "2021-01-31T20:57:19.183833Z"
    },
    "papermill": {
     "duration": 0.881198,
     "end_time": "2021-01-31T20:57:19.184635",
     "exception": false,
     "start_time": "2021-01-31T20:57:18.303437",
     "status": "completed"
    },
    "tags": []
   },
   "outputs": [
    {
     "data": {
      "image/png": "[encoded data removed]",
      "text/plain": [
       "<Figure size 432x288 with 2 Axes>"
      ]
     },
     "metadata": {
      "needs_background": "light"
     },
     "output_type": "display_data"
    }
   ],
   "source": [
    "#Plot a bar chart comparing survival between Classes splitting by Sex for both the training and testing datasets\n",
    "plt.subplot(1, 2, 1)\n",
    "label = 'Male', 'Female'\n",
    "sns.barplot(x='Pclass', y='Survived_pred', data=titanic_test_x,hue='Sex')\n",
    "plt.axis([-0.5, 2.5, 0, 1])\n",
    "plt.title(\"Test dataset\")\n",
    "\n",
    "plt.subplot(1, 2, 2)\n",
    "sns.barplot(x='Pclass', y='Survived', data=titanic,hue='Sex')\n",
    "plt.axis([-0.5, 2.5, 0, 1])\n",
    "plt.title(\"Training dataset\")\n",
    "plt.tight_layout()"
   ]
  },
  {
   "cell_type": "markdown",
   "metadata": {
    "papermill": {
     "duration": 0.059475,
     "end_time": "2021-01-31T20:57:19.304211",
     "exception": false,
     "start_time": "2021-01-31T20:57:19.244736",
     "status": "completed"
    },
    "tags": []
   },
   "source": [
    "Our model overweights the impact of Sex when determining survival rates: Males are much less likely to not survive in all classes while Female survival was almost guarenteed. Class of the passenger also plays a role but is dramatically overshadowed by Sex. This is not as drastically shown with our original dataset."
   ]
  },
  {
   "cell_type": "markdown",
   "metadata": {
    "papermill": {
     "duration": 0.059126,
     "end_time": "2021-01-31T20:57:19.423384",
     "exception": false,
     "start_time": "2021-01-31T20:57:19.364258",
     "status": "completed"
    },
    "tags": []
   },
   "source": [
    "Is it possible that there is just an overrepresentation of Females in our test dataset or perhaps a hidden disproportionality between the representation of the classes? Most likely not since our Class comparison on survival rate was relatively comparable between Classes and that graph was dramatically polarized by including Sex into the picture.\n",
    "\n",
    "We will check anyway and visualize the differences between the test dataset and the training dataset."
   ]
  },
  {
   "cell_type": "code",
   "execution_count": 38,
   "metadata": {
    "execution": {
     "iopub.execute_input": "2021-01-31T20:57:19.554510Z",
     "iopub.status.busy": "2021-01-31T20:57:19.552475Z",
     "iopub.status.idle": "2021-01-31T20:57:19.637103Z",
     "shell.execute_reply": "2021-01-31T20:57:19.636406Z"
    },
    "papermill": {
     "duration": 0.154294,
     "end_time": "2021-01-31T20:57:19.637220",
     "exception": false,
     "start_time": "2021-01-31T20:57:19.482926",
     "status": "completed"
    },
    "tags": []
   },
   "outputs": [
    {
     "data": {
      "image/png": "[encoded data removed]",
      "text/plain": [
       "<Figure size 432x288 with 2 Axes>"
      ]
     },
     "metadata": {},
     "output_type": "display_data"
    }
   ],
   "source": [
    "#Create pie charts for the composition ratio of Sex in both the training and testing datasets\n",
    "sizes_test = [titanic_test_x['Sex'].value_counts()[0], titanic_test_x['Sex'].value_counts()[1]]\n",
    "sizes_train = [titanic['Sex'].value_counts()[0], titanic['Sex'].value_counts()[1]]\n",
    "explode = (0.1, 0)\n",
    "labels = 'Male', 'Female'\n",
    "\n",
    "plt.subplot(1, 2, 1)\n",
    "plt.pie(sizes_test, explode=explode, labels=labels, autopct='%1.1f%%')\n",
    "\n",
    "plt.subplot(1, 2, 2)\n",
    "plt.pie(sizes_train, explode=explode, labels=labels, autopct='%1.1f%%')\n",
    "plt.show()"
   ]
  },
  {
   "cell_type": "code",
   "execution_count": 39,
   "metadata": {
    "execution": {
     "iopub.execute_input": "2021-01-31T20:57:19.779729Z",
     "iopub.status.busy": "2021-01-31T20:57:19.778326Z",
     "iopub.status.idle": "2021-01-31T20:57:19.882820Z",
     "shell.execute_reply": "2021-01-31T20:57:19.882130Z"
    },
    "papermill": {
     "duration": 0.185175,
     "end_time": "2021-01-31T20:57:19.882934",
     "exception": false,
     "start_time": "2021-01-31T20:57:19.697759",
     "status": "completed"
    },
    "tags": []
   },
   "outputs": [
    {
     "data": {
      "image/png": "[encoded data removed]",
      "text/plain": [
       "<Figure size 432x288 with 2 Axes>"
      ]
     },
     "metadata": {},
     "output_type": "display_data"
    }
   ],
   "source": [
    "#Create pie charts for the composition ratio of Class in both the training and testing datasets\n",
    "sizes_test = [titanic_test_x['Pclass'].value_counts()[1], titanic_test_x['Pclass'].value_counts()[2], titanic_test_x['Pclass'].value_counts()[3]]\n",
    "sizes_train = [titanic['Pclass'].value_counts()[1], titanic['Pclass'].value_counts()[2], titanic['Pclass'].value_counts()[3]]\n",
    "explode = (0.1, 0, 0)\n",
    "labels = '1st Class', '2nd Class', '3rd Class'\n",
    "\n",
    "plt.subplot(1, 2, 1)\n",
    "plt.pie(sizes_test, explode=explode, labels=labels, autopct='%1.1f%%')\n",
    "\n",
    "plt.subplot(1, 2, 2)\n",
    "plt.pie(sizes_train, explode=explode, labels=labels, autopct='%1.1f%%')\n",
    "plt.tight_layout()"
   ]
  },
  {
   "cell_type": "markdown",
   "metadata": {
    "papermill": {
     "duration": 0.061036,
     "end_time": "2021-01-31T20:57:20.006795",
     "exception": false,
     "start_time": "2021-01-31T20:57:19.945759",
     "status": "completed"
    },
    "tags": []
   },
   "source": [
    "Representation of Sex and Class are approximately equivalent.\n",
    "\n",
    "Let's briefly look at the minor features, SibSp and Age, in relation to Sex"
   ]
  },
  {
   "cell_type": "code",
   "execution_count": 40,
   "metadata": {
    "execution": {
     "iopub.execute_input": "2021-01-31T20:57:20.147461Z",
     "iopub.status.busy": "2021-01-31T20:57:20.145479Z",
     "iopub.status.idle": "2021-01-31T20:57:21.261649Z",
     "shell.execute_reply": "2021-01-31T20:57:21.260943Z"
    },
    "papermill": {
     "duration": 1.191893,
     "end_time": "2021-01-31T20:57:21.261768",
     "exception": false,
     "start_time": "2021-01-31T20:57:20.069875",
     "status": "completed"
    },
    "tags": []
   },
   "outputs": [
    {
     "data": {
      "image/png": "[encoded data removed]",
      "text/plain": [
       "<Figure size 432x288 with 2 Axes>"
      ]
     },
     "metadata": {
      "needs_background": "light"
     },
     "output_type": "display_data"
    }
   ],
   "source": [
    "#Plot a bar chart comparing survival depending on number of Siblings are aboard\n",
    "#and splitting by Sex for both the training and testing datasets\n",
    "plt.subplot(1, 2, 1)\n",
    "sns.barplot(x='SibSp', y='Survived_pred', data=titanic_test_x,hue='Sex')\n",
    "plt.axis([-0.5, 4.5, 0, 1])\n",
    "plt.title(\"Test dataset\")\n",
    "\n",
    "plt.subplot(1, 2, 2)\n",
    "sns.barplot(x='SibSp', y='Survived', data=titanic,hue='Sex')\n",
    "plt.axis([-0.5, 4.5, 0, 1])\n",
    "plt.title(\"Training dataset\")\n",
    "plt.tight_layout()"
   ]
  },
  {
   "cell_type": "markdown",
   "metadata": {
    "papermill": {
     "duration": 0.062025,
     "end_time": "2021-01-31T20:57:21.386722",
     "exception": false,
     "start_time": "2021-01-31T20:57:21.324697",
     "status": "completed"
    },
    "tags": []
   },
   "source": [
    "We are seeing the same pattern as seen between Sex and Class, our model is predicting almost no survival of Males irregardless of the amount of siblings. Our training dataset shows a higher survival rate amongst passengers with less siblings on board for both males and females"
   ]
  },
  {
   "cell_type": "code",
   "execution_count": 41,
   "metadata": {
    "execution": {
     "iopub.execute_input": "2021-01-31T20:57:21.531502Z",
     "iopub.status.busy": "2021-01-31T20:57:21.526559Z",
     "iopub.status.idle": "2021-01-31T20:57:21.893766Z",
     "shell.execute_reply": "2021-01-31T20:57:21.893122Z"
    },
    "papermill": {
     "duration": 0.444963,
     "end_time": "2021-01-31T20:57:21.893897",
     "exception": false,
     "start_time": "2021-01-31T20:57:21.448934",
     "status": "completed"
    },
    "tags": []
   },
   "outputs": [
    {
     "data": {
      "image/png": "[encoded data removed]",
      "text/plain": [
       "<Figure size 432x288 with 2 Axes>"
      ]
     },
     "metadata": {
      "needs_background": "light"
     },
     "output_type": "display_data"
    }
   ],
   "source": [
    "#Plot violin charts comparing the Age of survivors and splitting by Sex for both the training and testing dataset\n",
    "plt.subplot(1, 2, 1)\n",
    "sns.violinplot(x='Survived_pred', y='Age', data=titanic_test_x,hue='Sex', split=True)\n",
    "plt.title('Test dataset')\n",
    "plt.axis([-0.5, 1.5, -1, 110])\n",
    "\n",
    "plt.subplot(1, 2, 2)\n",
    "sns.violinplot(x='Survived', y='Age', data=titanic,hue='Sex', split=True)\n",
    "plt.title('Train dataset')\n",
    "plt.axis([-0.5, 1.5, -1, 110])\n",
    "plt.tight_layout()"
   ]
  },
  {
   "cell_type": "markdown",
   "metadata": {
    "papermill": {
     "duration": 0.064842,
     "end_time": "2021-01-31T20:57:22.023213",
     "exception": false,
     "start_time": "2021-01-31T20:57:21.958371",
     "status": "completed"
    },
    "tags": []
   },
   "source": [
    "While the average ages are approximately matching between datasets, we can see that Male survival is disproportionately lower in our Test dataset. The effect is not as dramatic as our view on Class or SibSp however.\n",
    "\n",
    "These minor features only support our conclusion that our logistic model disproportionately predicts survival based on Sex compared to our Training dataset."
   ]
  },
  {
   "cell_type": "markdown",
   "metadata": {
    "papermill": {
     "duration": 0.063644,
     "end_time": "2021-01-31T20:57:22.150982",
     "exception": false,
     "start_time": "2021-01-31T20:57:22.087338",
     "status": "completed"
    },
    "tags": []
   },
   "source": [
    "# Conclusion"
   ]
  },
  {
   "cell_type": "markdown",
   "metadata": {
    "papermill": {
     "duration": 0.063383,
     "end_time": "2021-01-31T20:57:22.278594",
     "exception": false,
     "start_time": "2021-01-31T20:57:22.215211",
     "status": "completed"
    },
    "tags": []
   },
   "source": [
    "A logistic regression model for predicting survival on the Titanic overemphasizes the higher Female survival rate and overall gives a higher survival rate. We saw in our analysis that this flaw in our model could not be explained through variations in the other features used in the model. Although the model fits our training dataset to about 80% accuracy, it would be expected that the test accuracy is much lower because of this major flaw.\n",
    "\n",
    "Some alternatives that may be a better choice for modelling this Supervised Classification problem could be Kernel SVM, Random Forest,or Gradient Boosting Tree"
   ]
  },
  {
   "cell_type": "markdown",
   "metadata": {
    "papermill": {
     "duration": 0.064642,
     "end_time": "2021-01-31T20:57:22.407244",
     "exception": false,
     "start_time": "2021-01-31T20:57:22.342602",
     "status": "completed"
    },
    "tags": []
   },
   "source": [
    "# Exporting"
   ]
  },
  {
   "cell_type": "code",
   "execution_count": 42,
   "metadata": {
    "execution": {
     "iopub.execute_input": "2021-01-31T20:57:22.546301Z",
     "iopub.status.busy": "2021-01-31T20:57:22.545439Z",
     "iopub.status.idle": "2021-01-31T20:57:22.850491Z",
     "shell.execute_reply": "2021-01-31T20:57:22.849765Z"
    },
    "papermill": {
     "duration": 0.378171,
     "end_time": "2021-01-31T20:57:22.850622",
     "exception": false,
     "start_time": "2021-01-31T20:57:22.472451",
     "status": "completed"
    },
    "tags": []
   },
   "outputs": [],
   "source": [
    "#Select the columns required for submission and rename to match competition requirements\n",
    "subm_cols = ['PassengerId', 'Survived_pred']\n",
    "titanic_test_x_subm = titanic_test_x.loc[:, subm_cols]\n",
    "titanic_test_x_subm = titanic_test_x_subm.rename(columns={'Survived_pred':'Survived'})\n",
    "\n",
    "#Output to .csv\n",
    "titanic_test_x_subm.to_csv('submission.csv', index=False)"
   ]
  }
 ],
 "metadata": {
  "kernelspec": {
   "display_name": "Python 3",
   "language": "python",
   "name": "python3"
  },
  "language_info": {
   "codemirror_mode": {
    "name": "ipython",
    "version": 3
   },
   "file_extension": ".py",
   "mimetype": "text/x-python",
   "name": "python",
   "nbconvert_exporter": "python",
   "pygments_lexer": "ipython3",
   "version": "3.7.6"
  },
  "papermill": {
   "duration": 20.163686,
   "end_time": "2021-01-31T20:57:23.022754",
   "environment_variables": {},
   "exception": null,
   "input_path": "__notebook__.ipynb",
   "output_path": "__notebook__.ipynb",
   "parameters": {},
   "start_time": "2021-01-31T20:57:02.859068",
   "version": "2.1.0"
  }
 },
 "nbformat": 4,
 "nbformat_minor": 4
}
